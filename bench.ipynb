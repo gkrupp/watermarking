{
 "cells": [
  {
   "cell_type": "code",
   "execution_count": 10,
   "id": "ambient-executive",
   "metadata": {},
   "outputs": [
    {
     "output_type": "stream",
     "name": "stdout",
     "text": [
      "The autoreload extension is already loaded. To reload it, use:\n  %reload_ext autoreload\n"
     ]
    }
   ],
   "source": [
    "%config Completer.use_jedi = False\n",
    "%load_ext autoreload\n",
    "%autoreload 2"
   ]
  },
  {
   "cell_type": "code",
   "execution_count": 11,
   "id": "antique-monster",
   "metadata": {},
   "outputs": [],
   "source": [
    "import numpy as np\n",
    "from wm import Image as PolarImage\n",
    "from PIL import Image"
   ]
  },
  {
   "cell_type": "code",
   "execution_count": 14,
   "id": "consolidated-linux",
   "metadata": {},
   "outputs": [],
   "source": [
    "from wm.moments import RadialHarmonicFourierMoment\n",
    "#from wm.moments import ZernikeMoment, PseudoZernikeMoment"
   ]
  },
  {
   "cell_type": "markdown",
   "id": "international-leisure",
   "metadata": {},
   "source": [
    "## Embedding"
   ]
  },
  {
   "cell_type": "code",
   "execution_count": 15,
   "id": "automatic-spyware",
   "metadata": {},
   "outputs": [],
   "source": [
    "L = 32\n",
    "# data\n",
    "np.random.seed(0)\n",
    "data = np.random.randint(2, size=L)\n",
    "pos = list(range(len(data)))"
   ]
  },
  {
   "cell_type": "code",
   "execution_count": 16,
   "id": "distributed-creature",
   "metadata": {},
   "outputs": [
    {
     "output_type": "execute_result",
     "data": {
      "text/plain": [
       "array([0, 1, 1, 0, 1, 1, 1, 1, 1, 1, 1, 0, 0, 1, 0, 0, 0, 0, 0, 1, 0, 1,\n",
       "       1, 0, 0, 1, 1, 1, 1, 0, 1, 0])"
      ]
     },
     "metadata": {},
     "execution_count": 16
    }
   ],
   "source": [
    "data"
   ]
  },
  {
   "cell_type": "code",
   "execution_count": 17,
   "id": "speaking-morning",
   "metadata": {},
   "outputs": [
    {
     "output_type": "stream",
     "name": "stdout",
     "text": []
    }
   ],
   "source": [
    "W = 64\n",
    "order = 16\n",
    "# method\n",
    "mname = 'RHFM'\n",
    "method = RadialHarmonicFourierMoment(order+1, W)\n",
    "# image\n",
    "pim = PolarImage('lena_'+str(W)+'.png')\n",
    "pime = method.encode(pim.grey, data, verbose=True)\n",
    "im = Image.fromarray(pime.im)"
   ]
  },
  {
   "cell_type": "code",
   "execution_count": 19,
   "id": "absent-stage",
   "metadata": {},
   "outputs": [],
   "source": [
    "im.save(''.join(['lena_',str(W),'_'+mname+'_','N',str(order),'L',str(L),'.png']))"
   ]
  },
  {
   "cell_type": "code",
   "execution_count": 20,
   "id": "latin-corner",
   "metadata": {},
   "outputs": [],
   "source": [
    "imdiff = np.abs(pim.grey.im.astype('float16') - pime.im.astype('float16')).astype('uint8')\n",
    "II = PolarImage(10*imdiff, colored=False)"
   ]
  },
  {
   "cell_type": "code",
   "execution_count": 21,
   "id": "spectacular-adams",
   "metadata": {},
   "outputs": [],
   "source": [
    "Image.fromarray(II.im).save(''.join(['lena_',str(W),'_'+mname+'_diff_','N',str(order),'L',str(L),'.png']))"
   ]
  },
  {
   "cell_type": "code",
   "execution_count": 22,
   "id": "numerous-differential",
   "metadata": {},
   "outputs": [
    {
     "output_type": "display_data",
     "data": {
      "text/plain": "<Figure size 432x288 with 1 Axes>",
      "image/svg+xml": "<?xml version=\"1.0\" encoding=\"utf-8\" standalone=\"no\"?>\r\n<!DOCTYPE svg PUBLIC \"-//W3C//DTD SVG 1.1//EN\"\r\n  \"http://www.w3.org/Graphics/SVG/1.1/DTD/svg11.dtd\">\r\n<!-- Created with matplotlib (https://matplotlib.org/) -->\r\n<svg height=\"231.84pt\" version=\"1.1\" viewBox=\"0 0 231.84 231.84\" width=\"231.84pt\" xmlns=\"http://www.w3.org/2000/svg\" xmlns:xlink=\"http://www.w3.org/1999/xlink\">\r\n <metadata>\r\n  <rdf:RDF xmlns:cc=\"http://creativecommons.org/ns#\" xmlns:dc=\"http://purl.org/dc/elements/1.1/\" xmlns:rdf=\"http://www.w3.org/1999/02/22-rdf-syntax-ns#\">\r\n   <cc:Work>\r\n    <dc:type rdf:resource=\"http://purl.org/dc/dcmitype/StillImage\"/>\r\n    <dc:date>2021-04-11T03:15:26.296969</dc:date>\r\n    <dc:format>image/svg+xml</dc:format>\r\n    <dc:creator>\r\n     <cc:Agent>\r\n      <dc:title>Matplotlib v3.3.3, https://matplotlib.org/</dc:title>\r\n     </cc:Agent>\r\n    </dc:creator>\r\n   </cc:Work>\r\n  </rdf:RDF>\r\n </metadata>\r\n <defs>\r\n  <style type=\"text/css\">*{stroke-linecap:butt;stroke-linejoin:round;}</style>\r\n </defs>\r\n <g id=\"figure_1\">\r\n  <g id=\"patch_1\">\r\n   <path d=\"M 0 231.84 \r\nL 231.84 231.84 \r\nL 231.84 0 \r\nL 0 0 \r\nz\r\n\" style=\"fill:none;\"/>\r\n  </g>\r\n  <g id=\"axes_1\">\r\n   <g clip-path=\"url(#pf08af128e6)\">\r\n    <image height=\"218\" id=\"image4594cc5af5\" transform=\"scale(1 -1)translate(0 -218)\" width=\"218\" x=\"7.2\" xlink:href=\"data:image/png;base64,\r\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\" y=\"-6.64\"/>\r\n   </g>\r\n  </g>\r\n </g>\r\n <defs>\r\n  <clipPath id=\"pf08af128e6\">\r\n   <rect height=\"217.44\" width=\"217.44\" x=\"7.2\" y=\"7.2\"/>\r\n  </clipPath>\r\n </defs>\r\n</svg>\r\n",
      "image/png": "[encoded data removed]"
     },
     "metadata": {
      "needs_background": "light"
     }
    },
    {
     "output_type": "display_data",
     "data": {
      "text/plain": "<Figure size 432x288 with 1 Axes>",
      "image/svg+xml": "<?xml version=\"1.0\" encoding=\"utf-8\" standalone=\"no\"?>\r\n<!DOCTYPE svg PUBLIC \"-//W3C//DTD SVG 1.1//EN\"\r\n  \"http://www.w3.org/Graphics/SVG/1.1/DTD/svg11.dtd\">\r\n<!-- Created with matplotlib (https://matplotlib.org/) -->\r\n<svg height=\"231.84pt\" version=\"1.1\" viewBox=\"0 0 231.84 231.84\" width=\"231.84pt\" xmlns=\"http://www.w3.org/2000/svg\" xmlns:xlink=\"http://www.w3.org/1999/xlink\">\r\n <metadata>\r\n  <rdf:RDF xmlns:cc=\"http://creativecommons.org/ns#\" xmlns:dc=\"http://purl.org/dc/elements/1.1/\" xmlns:rdf=\"http://www.w3.org/1999/02/22-rdf-syntax-ns#\">\r\n   <cc:Work>\r\n    <dc:type rdf:resource=\"http://purl.org/dc/dcmitype/StillImage\"/>\r\n    <dc:date>2021-04-11T03:15:26.412000</dc:date>\r\n    <dc:format>image/svg+xml</dc:format>\r\n    <dc:creator>\r\n     <cc:Agent>\r\n      <dc:title>Matplotlib v3.3.3, https://matplotlib.org/</dc:title>\r\n     </cc:Agent>\r\n    </dc:creator>\r\n   </cc:Work>\r\n  </rdf:RDF>\r\n </metadata>\r\n <defs>\r\n  <style type=\"text/css\">*{stroke-linecap:butt;stroke-linejoin:round;}</style>\r\n </defs>\r\n <g id=\"figure_1\">\r\n  <g id=\"patch_1\">\r\n   <path d=\"M 0 231.84 \r\nL 231.84 231.84 \r\nL 231.84 0 \r\nL 0 0 \r\nz\r\n\" style=\"fill:none;\"/>\r\n  </g>\r\n  <g id=\"axes_1\">\r\n   <g clip-path=\"url(#p3d40d662ce)\">\r\n    <image height=\"218\" id=\"imageed83f66f22\" transform=\"scale(1 -1)translate(0 -218)\" width=\"218\" x=\"7.2\" xlink:href=\"data:image/png;base64,\r\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\" y=\"-6.64\"/>\r\n   </g>\r\n  </g>\r\n </g>\r\n <defs>\r\n  <clipPath id=\"p3d40d662ce\">\r\n   <rect height=\"217.44\" width=\"217.44\" x=\"7.2\" y=\"7.2\"/>\r\n  </clipPath>\r\n </defs>\r\n</svg>\r\n",
      "image/png": "[encoded data removed]"
     },
     "metadata": {
      "needs_background": "light"
     }
    }
   ],
   "source": [
    "pime.show()\n",
    "II.show()"
   ]
  },
  {
   "cell_type": "markdown",
   "id": "impossible-dodge",
   "metadata": {},
   "source": [
    "## Benchmarks"
   ]
  },
  {
   "cell_type": "code",
   "execution_count": 23,
   "id": "animal-sudan",
   "metadata": {},
   "outputs": [],
   "source": [
    "from wm.benchmarks.geometry import Resize, Rotate, Flip"
   ]
  },
  {
   "cell_type": "code",
   "execution_count": 24,
   "id": "english-resident",
   "metadata": {},
   "outputs": [],
   "source": [
    "# RESIZE\n",
    "scales = [0.2, 0.25, 0.333, 0.5, 0.666, 0.75, 0.8, 1.1, 1.5, 2, 3]\n",
    "bs_resize_nearest = [ Resize(method, data, pos=pos, scale=s, resample=Image.NEAREST, name='RHFM/Resize/Nearest/'+str(s)) for s in scales ]\n",
    "bs_resize_linear  = [ Resize(method, data, pos=pos, scale=s, resample=Image.LINEAR,  name='RHFM/Resize/Linear/'+str(s))  for s in scales ]\n",
    "bs_resize_bicubic = [ Resize(method, data, pos=pos, scale=s, resample=Image.BICUBIC, name='RHFM/Resize/Bicubic/'+str(s)) for s in scales ]\n",
    "bs_resize_lanczos = [ Resize(method, data, pos=pos, scale=s, resample=Image.LANCZOS, name='RHFM/Resize/Lanczos/'+str(s)) for s in scales ]\n",
    "# ROTATE\n",
    "angles = [1, 2, 5, 10, 15, 20, 25, 30, 35, 40, 45, 90, 180, 270]\n",
    "bs_rotate_nearest = [ Rotate(method, data, pos=pos, angle=a, resample=Image.NEAREST, name='RHFM/Rotate/Nearest/'+str(a)) for a in angles ]\n",
    "bs_rotate_linear  = [ Rotate(method, data, pos=pos, angle=a, resample=Image.LINEAR,  name='RHFM/Rotate/Linear/'+str(a))  for a in angles ]\n",
    "bs_rotate_bicubic = [ Rotate(method, data, pos=pos, angle=a, resample=Image.BICUBIC, name='RHFM/Rotate/Bicubic/'+str(a)) for a in angles ]\n",
    "# FLIP\n",
    "flips = [Image.FLIP_LEFT_RIGHT, Image.FLIP_TOP_BOTTOM]\n",
    "bs_flip = [ Flip(method, data, pos=pos, direction=d, name='RHFM/Flip/'+str('UD' if d else 'LR')) for d in flips ]"
   ]
  },
  {
   "cell_type": "code",
   "execution_count": 25,
   "id": "native-server",
   "metadata": {},
   "outputs": [],
   "source": [
    "from wm.benchmarks.filter import Blur, Sharpen, SaltPapperNoise"
   ]
  },
  {
   "cell_type": "code",
   "execution_count": 26,
   "id": "featured-purple",
   "metadata": {},
   "outputs": [],
   "source": [
    "# GAUSSBLUR\n",
    "blurs = [1, 2, 3, 4, 5]\n",
    "bs_blur = [ Blur(method, data, pos=pos, radius=r, name='RHFM/Blur/'+str(r)) for r in blurs ]\n",
    "# SHARPEN\n",
    "sharpens = [5, 10, 20, 30, 40, 50, 100]\n",
    "bs_sharpen = [ Sharpen(method, data, pos=pos, radius=3, percent=s, name='RHFM/Sharpen/'+str(s)) for s in sharpens ]\n",
    "# GAUSSBLUR\n",
    "sps = [0.01, 0.02, 0.05, 0.1, 0.15, 0.2]\n",
    "bs_saltpepper = [ SaltPapperNoise(method, data, pos=pos, amount=a, name='RHFM/SaltPepper/'+str(a)) for a in sps ]"
   ]
  },
  {
   "cell_type": "code",
   "execution_count": 27,
   "id": "circular-dating",
   "metadata": {},
   "outputs": [],
   "source": [
    "from wm.benchmarks.compression import JPEG, JPEG2000"
   ]
  },
  {
   "cell_type": "code",
   "execution_count": 28,
   "id": "strong-demand",
   "metadata": {},
   "outputs": [],
   "source": [
    "# JPEG\n",
    "qualities = [100, 95, 90, 85, 80, 75, 70, 65, 60, 50, 10, 5]\n",
    "bs_jpeg = [ JPEG(method, data, pos=pos, quality=q, name='RHFM/JPEG/'+str(q)) for q in qualities ]\n",
    "bs_jpeg2000 = [ JPEG2000(method, data, pos=pos, name='RHFM/JPEG2000') ]"
   ]
  },
  {
   "cell_type": "markdown",
   "id": "physical-shareware",
   "metadata": {},
   "source": [
    "### Run"
   ]
  },
  {
   "cell_type": "code",
   "execution_count": 29,
   "id": "pointed-surface",
   "metadata": {},
   "outputs": [],
   "source": [
    "from functools import reduce\n",
    "from wm.benchmarks.Benchmark import Benchmark"
   ]
  },
  {
   "cell_type": "code",
   "execution_count": 30,
   "id": "arbitrary-closing",
   "metadata": {},
   "outputs": [],
   "source": [
    "bs_ = reduce(lambda a,b: a+b, [\n",
    "    # RESIZE\n",
    "    bs_resize_nearest,\n",
    "    bs_resize_linear,\n",
    "    bs_resize_bicubic,\n",
    "    bs_resize_lanczos,\n",
    "    # ROTATE\n",
    "    bs_rotate_nearest,\n",
    "    bs_rotate_linear,\n",
    "    bs_rotate_bicubic,\n",
    "    # FLIP\n",
    "    bs_flip,\n",
    "    # NOISE\n",
    "    bs_blur,\n",
    "    bs_sharpen,\n",
    "    bs_saltpepper,\n",
    "    # COMPRESSION\n",
    "    bs_jpeg,\n",
    "    bs_jpeg2000,\n",
    "], [])"
   ]
  },
  {
   "cell_type": "code",
   "execution_count": 31,
   "id": "informative-reduction",
   "metadata": {},
   "outputs": [
    {
     "output_type": "stream",
     "name": "stdout",
     "text": [
      "1.0\n",
      "RHFM/Resize/Nearest/0.2\t0.5\n",
      "RHFM/Resize/Nearest/0.25\t0.46875\n",
      "RHFM/Resize/Nearest/0.333\t0.5\n",
      "RHFM/Resize/Nearest/0.5\t0.6875\n",
      "RHFM/Resize/Nearest/0.666\t0.90625\n",
      "RHFM/Resize/Nearest/0.75\t0.9375\n",
      "RHFM/Resize/Nearest/0.8\t0.96875\n",
      "RHFM/Resize/Nearest/1.1\t1.0\n",
      "RHFM/Resize/Nearest/1.5\t0.96875\n",
      "RHFM/Resize/Nearest/2\t0.9375\n",
      "RHFM/Resize/Nearest/3\t0.90625\n",
      "RHFM/Resize/Linear/0.2\t0.5\n",
      "RHFM/Resize/Linear/0.25\t0.46875\n",
      "RHFM/Resize/Linear/0.333\t0.5\n",
      "RHFM/Resize/Linear/0.5\t0.6875\n",
      "RHFM/Resize/Linear/0.666\t0.90625\n",
      "RHFM/Resize/Linear/0.75\t0.9375\n",
      "RHFM/Resize/Linear/0.8\t0.96875\n",
      "RHFM/Resize/Linear/1.1\t1.0\n",
      "RHFM/Resize/Linear/1.5\t0.96875\n",
      "RHFM/Resize/Linear/2\t0.9375\n",
      "RHFM/Resize/Linear/3\t0.90625\n",
      "RHFM/Resize/Bicubic/0.2\t0.5\n",
      "RHFM/Resize/Bicubic/0.25\t0.46875\n",
      "RHFM/Resize/Bicubic/0.333\t0.5\n",
      "RHFM/Resize/Bicubic/0.5\t0.6875\n",
      "RHFM/Resize/Bicubic/0.666\t0.90625\n",
      "RHFM/Resize/Bicubic/0.75\t0.9375\n",
      "RHFM/Resize/Bicubic/0.8\t0.96875\n",
      "RHFM/Resize/Bicubic/1.1\t1.0\n",
      "RHFM/Resize/Bicubic/1.5\t0.96875\n",
      "RHFM/Resize/Bicubic/2\t0.9375\n",
      "RHFM/Resize/Bicubic/3\t0.90625\n",
      "RHFM/Resize/Lanczos/0.2\t0.5\n",
      "RHFM/Resize/Lanczos/0.25\t0.46875\n",
      "RHFM/Resize/Lanczos/0.333\t0.5\n",
      "RHFM/Resize/Lanczos/0.5\t0.6875\n",
      "RHFM/Resize/Lanczos/0.666\t0.90625\n",
      "RHFM/Resize/Lanczos/0.75\t0.9375\n",
      "RHFM/Resize/Lanczos/0.8\t0.96875\n",
      "RHFM/Resize/Lanczos/1.1\t1.0\n",
      "RHFM/Resize/Lanczos/1.5\t0.96875\n",
      "RHFM/Resize/Lanczos/2\t0.9375\n",
      "RHFM/Resize/Lanczos/3\t0.90625\n",
      "RHFM/Rotate/Nearest/1\t1.0\n",
      "RHFM/Rotate/Nearest/2\t0.75\n",
      "RHFM/Rotate/Nearest/5\t0.78125\n",
      "RHFM/Rotate/Nearest/10\t0.8125\n",
      "RHFM/Rotate/Nearest/15\t0.71875\n",
      "RHFM/Rotate/Nearest/20\t0.8125\n",
      "RHFM/Rotate/Nearest/25\t0.90625\n",
      "RHFM/Rotate/Nearest/30\t0.8125\n",
      "RHFM/Rotate/Nearest/35\t0.8125\n",
      "RHFM/Rotate/Nearest/40\t0.875\n",
      "RHFM/Rotate/Nearest/45\t0.90625\n",
      "RHFM/Rotate/Nearest/90\t1.0\n",
      "RHFM/Rotate/Nearest/180\t1.0\n",
      "RHFM/Rotate/Nearest/270\t1.0\n",
      "RHFM/Rotate/Linear/1\t1.0\n",
      "RHFM/Rotate/Linear/2\t0.9375\n",
      "RHFM/Rotate/Linear/5\t0.96875\n",
      "RHFM/Rotate/Linear/10\t0.96875\n",
      "RHFM/Rotate/Linear/15\t0.9375\n",
      "RHFM/Rotate/Linear/20\t0.9375\n",
      "RHFM/Rotate/Linear/25\t0.96875\n",
      "RHFM/Rotate/Linear/30\t0.90625\n",
      "RHFM/Rotate/Linear/35\t0.96875\n",
      "RHFM/Rotate/Linear/40\t0.96875\n",
      "RHFM/Rotate/Linear/45\t0.9375\n",
      "RHFM/Rotate/Linear/90\t1.0\n",
      "RHFM/Rotate/Linear/180\t1.0\n",
      "RHFM/Rotate/Linear/270\t1.0\n",
      "RHFM/Rotate/Bicubic/1\t1.0\n",
      "RHFM/Rotate/Bicubic/2\t0.9375\n",
      "RHFM/Rotate/Bicubic/5\t1.0\n",
      "RHFM/Rotate/Bicubic/10\t0.90625\n",
      "RHFM/Rotate/Bicubic/15\t0.84375\n",
      "RHFM/Rotate/Bicubic/20\t0.84375\n",
      "RHFM/Rotate/Bicubic/25\t0.90625\n",
      "RHFM/Rotate/Bicubic/30\t0.96875\n",
      "RHFM/Rotate/Bicubic/35\t0.96875\n",
      "RHFM/Rotate/Bicubic/40\t0.96875\n",
      "RHFM/Rotate/Bicubic/45\t0.96875\n",
      "RHFM/Rotate/Bicubic/90\t1.0\n",
      "RHFM/Rotate/Bicubic/180\t1.0\n",
      "RHFM/Rotate/Bicubic/270\t1.0\n",
      "RHFM/Flip/LR\t1.0\n",
      "RHFM/Flip/UD\t1.0\n",
      "RHFM/Blur/1\t0.78125\n",
      "RHFM/Blur/2\t0.46875\n",
      "RHFM/Blur/3\t0.4375\n",
      "RHFM/Blur/4\t0.4375\n",
      "RHFM/Blur/5\t0.3125\n",
      "RHFM/Sharpen/5\t1.0\n",
      "RHFM/Sharpen/10\t0.9375\n",
      "RHFM/Sharpen/20\t0.625\n",
      "RHFM/Sharpen/30\t0.4375\n",
      "RHFM/Sharpen/40\t0.46875\n",
      "RHFM/Sharpen/50\t0.40625\n",
      "RHFM/Sharpen/100\t0.5\n",
      "RHFM/SaltPepper/0.01\t0.90625\n",
      "RHFM/SaltPepper/0.02\t0.5625\n",
      "RHFM/SaltPepper/0.05\t0.4375\n",
      "RHFM/SaltPepper/0.1\t0.5625\n",
      "RHFM/SaltPepper/0.15\t0.53125\n",
      "RHFM/SaltPepper/0.2\t0.65625\n",
      "RHFM/JPEG/100\t1.0\n",
      "RHFM/JPEG/95\t1.0\n",
      "RHFM/JPEG/90\t1.0\n",
      "RHFM/JPEG/85\t1.0\n",
      "RHFM/JPEG/80\t1.0\n",
      "RHFM/JPEG/75\t1.0\n",
      "RHFM/JPEG/70\t1.0\n",
      "RHFM/JPEG/65\t1.0\n",
      "RHFM/JPEG/60\t1.0\n",
      "RHFM/JPEG/50\t0.9375\n",
      "RHFM/JPEG/10\t0.5625\n",
      "RHFM/JPEG/5\t0.375\n",
      "RHFM/JPEG2000\t1.0\n"
     ]
    }
   ],
   "source": [
    "print(Benchmark(method, data, pos=pos)(im))\n",
    "for b in bs_:\n",
    "    res = b(im)\n",
    "    print(''.join([b.name, '\\t', str(res)]))"
   ]
  },
  {
   "cell_type": "code",
   "execution_count": null,
   "id": "naughty-christianity",
   "metadata": {},
   "outputs": [],
   "source": []
  }
 ],
 "metadata": {
  "kernelspec": {
   "name": "python391jvsc74a57bd063fd5069d213b44bf678585dea6b12cceca9941eaf7f819626cde1f2670de90d",
   "display_name": "Python 3.9.1 64-bit"
  },
  "language_info": {
   "codemirror_mode": {
    "name": "ipython",
    "version": 3
   },
   "file_extension": ".py",
   "mimetype": "text/x-python",
   "name": "python",
   "nbconvert_exporter": "python",
   "pygments_lexer": "ipython3",
   "version": "3.9.1-final"
  },
  "metadata": {
   "interpreter": {
    "hash": "63fd5069d213b44bf678585dea6b12cceca9941eaf7f819626cde1f2670de90d"
   }
  }
 },
 "nbformat": 4,
 "nbformat_minor": 5
}