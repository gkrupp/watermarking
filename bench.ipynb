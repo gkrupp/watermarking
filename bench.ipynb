{
 "cells": [
  {
   "cell_type": "code",
   "execution_count": 1,
   "id": "institutional-modem",
   "metadata": {},
   "outputs": [],
   "source": [
    "%config Completer.use_jedi = False\n",
    "%load_ext autoreload\n",
    "%autoreload 2"
   ]
  },
  {
   "cell_type": "code",
   "execution_count": 2,
   "id": "boolean-barbados",
   "metadata": {},
   "outputs": [],
   "source": [
    "import cv2\n",
    "import numpy as np\n",
    "from wm import Image as PolarImage\n",
    "from PIL import Image"
   ]
  },
  {
   "cell_type": "code",
   "execution_count": 3,
   "id": "lesbian-thanks",
   "metadata": {},
   "outputs": [],
   "source": [
    "from wm.moments import RadialHarmonicFourierMoment\n",
    "from wm.moments import ZernikeMoment, PseudoZernikeMoment"
   ]
  },
  {
   "cell_type": "code",
   "execution_count": 4,
   "id": "running-debut",
   "metadata": {},
   "outputs": [],
   "source": [
    "from wm.metrics import PSNR"
   ]
  },
  {
   "cell_type": "markdown",
   "id": "occasional-timing",
   "metadata": {},
   "source": [
    "## Embedding"
   ]
  },
  {
   "cell_type": "code",
   "execution_count": 5,
   "id": "introductory-palmer",
   "metadata": {},
   "outputs": [],
   "source": [
    "L = 64\n",
    "# data\n",
    "np.random.seed(0)\n",
    "data = np.random.randint(2, size=L)\n",
    "pos = np.array(range(len(data)))"
   ]
  },
  {
   "cell_type": "code",
   "execution_count": 6,
   "id": "visible-windows",
   "metadata": {},
   "outputs": [],
   "source": [
    "#data = np.array(list(map(int, '011101110110000101110100011001010111001001101101011000010111001001101011')))"
   ]
  },
  {
   "cell_type": "code",
   "execution_count": 7,
   "id": "stainless-religion",
   "metadata": {},
   "outputs": [
    {
     "data": {
      "text/plain": [
       "array([0, 1, 1, 0, 1, 1, 1, 1, 1, 1, 1, 0, 0, 1, 0, 0, 0, 0, 0, 1, 0, 1,\n",
       "       1, 0, 0, 1, 1, 1, 1, 0, 1, 0, 1, 0, 1, 1, 0, 1, 1, 0, 0, 1, 0, 1,\n",
       "       1, 1, 1, 1, 0, 1, 0, 1, 1, 1, 1, 0, 1, 0, 0, 1, 1, 0, 1, 0])"
      ]
     },
     "execution_count": 7,
     "metadata": {},
     "output_type": "execute_result"
    }
   ],
   "source": [
    "data"
   ]
  },
  {
   "cell_type": "code",
   "execution_count": 8,
   "id": "extreme-spare",
   "metadata": {},
   "outputs": [
    {
     "name": "stdout",
     "output_type": "stream",
     "text": [
      "CPU times: user 63.7 ms, sys: 134 ms, total: 198 ms\n",
      "Wall time: 768 ms\n"
     ]
    }
   ],
   "source": [
    "%%time\n",
    "W = 64\n",
    "order = 50\n",
    "# method\n",
    "method = RadialHarmonicFourierMoment(order, W, Vfile='V_'+'RHFM'+'_'+str(W)+'.h5')"
   ]
  },
  {
   "cell_type": "code",
   "execution_count": 9,
   "id": "coastal-dayton",
   "metadata": {},
   "outputs": [
    {
     "name": "stdout",
     "output_type": "stream",
     "text": [
      "done                                     \r"
     ]
    }
   ],
   "source": [
    "# image\n",
    "pim = PolarImage('images/monochrome/lena_'+str(W)+'.png', colored=False)\n",
    "pime = method.encode(pim, data, verbose=True)\n",
    "im = Image.fromarray(pime.im)"
   ]
  },
  {
   "cell_type": "code",
   "execution_count": 10,
   "id": "opening-passenger",
   "metadata": {},
   "outputs": [],
   "source": [
    "#im.save(''.join(['lena_',str(W),'_'+method.name+'_','N',str(order),'L',str(L),'.png']))"
   ]
  },
  {
   "cell_type": "code",
   "execution_count": 11,
   "id": "premier-nitrogen",
   "metadata": {},
   "outputs": [],
   "source": [
    "imdiff = np.abs(pim.im.astype('float16') - pime.im.astype('float16')).astype('uint8')\n",
    "II = PolarImage(10*imdiff, colored=False)"
   ]
  },
  {
   "cell_type": "code",
   "execution_count": 12,
   "id": "solar-engagement",
   "metadata": {},
   "outputs": [],
   "source": [
    "#Image.fromarray(II.im).save(''.join(['lena_',str(W),'_'+method.name+'_diff_','N',str(order),'L',str(L),'.png']))"
   ]
  },
  {
   "cell_type": "code",
   "execution_count": 13,
   "id": "original-reputation",
   "metadata": {},
   "outputs": [
    {
     "name": "stdout",
     "output_type": "stream",
     "text": [
      "PSNR 43.32123707631353 dB\n"
     ]
    },
    {
     "data": {
      "image/png": "[encoded data removed]",
      "text/plain": [
       "<Figure size 432x288 with 1 Axes>"
      ]
     },
     "metadata": {
      "needs_background": "light"
     },
     "output_type": "display_data"
    },
    {
     "data": {
      "image/png": "[encoded data removed]",
      "text/plain": [
       "<Figure size 432x288 with 1 Axes>"
      ]
     },
     "metadata": {
      "needs_background": "light"
     },
     "output_type": "display_data"
    }
   ],
   "source": [
    "print('PSNR', PSNR(pim.im, pime.im), 'dB')\n",
    "pime.show()\n",
    "II.show()"
   ]
  },
  {
   "cell_type": "markdown",
   "id": "utility-grade",
   "metadata": {},
   "source": [
    "## Benchmarks"
   ]
  },
  {
   "cell_type": "code",
   "execution_count": 14,
   "id": "comfortable-daisy",
   "metadata": {},
   "outputs": [],
   "source": [
    "from wm.benchmarks.geometry import Resize, Rotate, Flip\n",
    "from wm.benchmarks.noise import Blur, Sharpen, Median, SaltPapperNoise, WhiteNoise\n",
    "from wm.benchmarks.enhance import Contrast, Brightness\n",
    "from wm.benchmarks.compression import JPEG, JPEG2000, WebP"
   ]
  },
  {
   "cell_type": "code",
   "execution_count": 15,
   "id": "secret-shield",
   "metadata": {},
   "outputs": [],
   "source": [
    "# RESIZE\n",
    "scales = [ 0.2, 0.3, 0.4, 0.5, 0.6, 0.7, 0.8, 0.9, 1, 1.1, 1.2, 1.3, 1.4, 1.5, 2, 3 ]\n",
    "bs_resize_linear  = [ Resize(method, data, pos=pos, scale=s, resample=Image.LINEAR,  name='Resize/Linear/'+str(s))  for s in scales ]\n",
    "#bs_resize_bicubic = [ Resize(method, data, pos=pos, scale=s, resample=Image.BICUBIC, name='Resize/Bicubic/'+str(s)) for s in scales ]\n",
    "# ROTATE\n",
    "angles = [ 0, 1, 2, 3, 4, 5, 10, 15, 20, 25, 30, 35, 40, 45 ]\n",
    "bs_rotate_linear  = [ Rotate(method, data, pos=pos, angle=a, resample=Image.LINEAR,  name='Rotate/Linear/'+str(a))  for a in angles ]\n",
    "#bs_rotate_bicubic = [ Rotate(method, data, pos=pos, angle=a, resample=Image.BICUBIC, name='Rotate/Bicubic/'+str(a)) for a in angles ]\n",
    "# FLIP\n",
    "flips = [ Image.FLIP_LEFT_RIGHT, Image.FLIP_TOP_BOTTOM ]\n",
    "bs_flip = [ Flip(method, data, pos=pos, direction=d, name='Flip/'+str('UD' if d else 'LR')) for d in flips ]"
   ]
  },
  {
   "cell_type": "code",
   "execution_count": 16,
   "id": "million-father",
   "metadata": {},
   "outputs": [],
   "source": [
    "# GAUSSBLUR\n",
    "blurs = [ 1, 1.2, 1.4, 1.6, 1.8, 2, 2.2, 2.4, 2.6, 2.8, 3, 3.2, 3.4, 3.6, 3.8, 4 ]\n",
    "bs_blur_3 = [ Blur(method, data, pos=pos, size=(3,3), sigma=s, name='Blur/3x3/'+str(s)) for s in blurs ]\n",
    "bs_blur_5 = [ Blur(method, data, pos=pos, size=(3,3), sigma=s, name='Blur/5x5/'+str(s)) for s in blurs ]\n",
    "bs_blur_7 = [ Blur(method, data, pos=pos, size=(3,3), sigma=s, name='Blur/7x7/'+str(s)) for s in blurs ]\n",
    "# SHARPEN\n",
    "sharpens = [ 2, 2.2, 2.4, 2.6, 2.8, 3, 3.2, 3.4, 3.6, 3.8, 4, 4.2, 4.4, 4.6, 4.8, 5 ]\n",
    "bs_sharpen_3 = [ Sharpen(method, data, pos=pos, size=(3,3), sigma=2, ratio=r, name='Sharpen/3x3/'+str(r)) for r in sharpens ]\n",
    "bs_sharpen_5 = [ Sharpen(method, data, pos=pos, size=(3,3), sigma=2, ratio=r, name='Sharpen/5x5/'+str(r)) for r in sharpens ]\n",
    "bs_sharpen_7 = [ Sharpen(method, data, pos=pos, size=(3,3), sigma=2, ratio=r, name='Sharpen/7x7/'+str(r)) for r in sharpens ]\n",
    "# MEDIAN\n",
    "medians = [ 3, 5, 7, 9 ]\n",
    "bs_median = [ Median(method, data, pos=pos, size=s, name='Median/'+str(s)) for s in medians ]\n",
    "# SALTPEPPER\n",
    "sps = [ 0.001, 0.005, 0.01, 0.02, 0.03, 0.04, 0.05, 0.06, 0.07, 0.08, 0.09, 0.1 ]\n",
    "bs_saltpepper = [ SaltPapperNoise(method, data, pos=pos, amount=a, name='SaltPepper/'+str(a)) for a in sps ]\n",
    "# WHITENOISE\n",
    "wn = [ 0.05, 0.1, 0.15, 0.2, 0.25, 0.3, 0.35, 0.4, 0.45, 0.5, 0.55, 0.6 ]\n",
    "bs_whitenoise = [ WhiteNoise(method, data, pos=pos, ratio=r, name='WhiteNoise/'+str(r)) for r in wn ]"
   ]
  },
  {
   "cell_type": "code",
   "execution_count": 17,
   "id": "otherwise-pride",
   "metadata": {},
   "outputs": [],
   "source": [
    "# CONTRAST\n",
    "contrasts = [ 0.85, 0.9, 0.92, 0.94, 0.96, 0.98, 1, 1.02, 1.04, 1.06, 1.08, 1.1, 1.15 ]\n",
    "bs_contrast = [ Contrast(method, data, pos=pos, factor=f, name='Contrast/'+str(f)) for f in contrasts ]\n",
    "# BRIGHTNESS\n",
    "brightnesses = [ 0.85, 0.9, 0.92, 0.94, 0.96, 0.98, 1, 1.02, 1.04, 1.06, 1.08, 1.1, 1.15 ]\n",
    "bs_brightness = [ Brightness(method, data, pos=pos, factor=f, name='Brightness/'+str(f)) for f in contrasts ]"
   ]
  },
  {
   "cell_type": "code",
   "execution_count": 18,
   "id": "electric-effect",
   "metadata": {},
   "outputs": [],
   "source": [
    "# JPEG\n",
    "qualities = [ 100, 90, 80, 70, 60, 50, 40, 30, 25, 20, 15, 10, 5 ]\n",
    "bs_jpeg =     [ JPEG(method, data, pos=pos, quality=q, name='JPEG/'+str(q)) for q in qualities ]\n",
    "#bs_jpeg2000 = [ JPEG2000(method, data, pos=pos, name='JPEG2000') ]\n",
    "# WebP\n",
    "bs_webp =     [ WebP(method, data, pos=pos, quality=q, name='WebP/'+str(q)) for q in qualities ]"
   ]
  },
  {
   "cell_type": "markdown",
   "id": "lined-apple",
   "metadata": {},
   "source": [
    "### Run"
   ]
  },
  {
   "cell_type": "code",
   "execution_count": 19,
   "id": "double-cleaner",
   "metadata": {},
   "outputs": [],
   "source": [
    "from functools import reduce\n",
    "from wm.benchmarks.Benchmark import Benchmark"
   ]
  },
  {
   "cell_type": "code",
   "execution_count": 20,
   "id": "mechanical-bangkok",
   "metadata": {},
   "outputs": [],
   "source": [
    "bs_ = reduce(lambda a,b: a+b, [\n",
    "    # GEOMETRY\n",
    "    bs_resize_linear, #bs_resize_bicubic,\n",
    "    bs_rotate_linear, #bs_rotate_bicubic,\n",
    "    bs_flip,\n",
    "    # FILTER\n",
    "    bs_blur_3, bs_blur_5, bs_blur_7,\n",
    "    bs_sharpen_3, bs_sharpen_5, bs_sharpen_7,\n",
    "    bs_median,\n",
    "    # ENHANCE\n",
    "    bs_contrast, bs_brightness,\n",
    "    # NIOSE\n",
    "    bs_saltpepper, bs_whitenoise,\n",
    "    # COMPRESSION\n",
    "    bs_jpeg, #bs_jpeg2000,\n",
    "    bs_webp,\n",
    "], [])"
   ]
  },
  {
   "cell_type": "code",
   "execution_count": 21,
   "id": "following-throat",
   "metadata": {},
   "outputs": [
    {
     "name": "stdout",
     "output_type": "stream",
     "text": [
      "1.0\n",
      "Resize/Linear/0.2\t0.515625\n",
      "Resize/Linear/0.3\t0.625\n",
      "Resize/Linear/0.4\t0.546875\n",
      "Resize/Linear/0.5\t0.5\n",
      "Resize/Linear/0.6\t0.5625\n",
      "Resize/Linear/0.7\t0.5\n",
      "Resize/Linear/0.8\t0.59375\n",
      "Resize/Linear/0.9\t0.609375\n",
      "Resize/Linear/1\t1.0\n",
      "Resize/Linear/1.1\t0.796875\n",
      "Resize/Linear/1.2\t0.859375\n",
      "Resize/Linear/1.3\t0.78125\n",
      "Resize/Linear/1.4\t0.828125\n",
      "Resize/Linear/1.5\t0.84375\n",
      "Resize/Linear/2\t0.671875\n",
      "Resize/Linear/3\t0.625\n",
      "Rotate/Linear/0\t1.0\n",
      "Rotate/Linear/1\t0.90625\n",
      "Rotate/Linear/2\t0.90625\n",
      "Rotate/Linear/3\t0.859375\n",
      "Rotate/Linear/4\t0.890625\n",
      "Rotate/Linear/5\t0.890625\n",
      "Rotate/Linear/10\t0.734375\n",
      "Rotate/Linear/15\t0.75\n",
      "Rotate/Linear/20\t0.796875\n",
      "Rotate/Linear/25\t0.75\n",
      "Rotate/Linear/30\t0.78125\n",
      "Rotate/Linear/35\t0.8125\n",
      "Rotate/Linear/40\t0.78125\n",
      "Rotate/Linear/45\t0.828125\n",
      "Flip/LR\t1.0\n",
      "Flip/UD\t1.0\n",
      "Blur/3x3/1\t0.65625\n",
      "Blur/3x3/1.2\t0.625\n",
      "Blur/3x3/1.4\t0.609375\n",
      "Blur/3x3/1.6\t0.59375\n",
      "Blur/3x3/1.8\t0.578125\n",
      "Blur/3x3/2\t0.578125\n",
      "Blur/3x3/2.2\t0.578125\n",
      "Blur/3x3/2.4\t0.578125\n",
      "Blur/3x3/2.6\t0.578125\n",
      "Blur/3x3/2.8\t0.578125\n",
      "Blur/3x3/3\t0.578125\n",
      "Blur/3x3/3.2\t0.578125\n",
      "Blur/3x3/3.4\t0.578125\n",
      "Blur/3x3/3.6\t0.578125\n",
      "Blur/3x3/3.8\t0.578125\n",
      "Blur/3x3/4\t0.578125\n",
      "Blur/5x5/1\t0.65625\n",
      "Blur/5x5/1.2\t0.625\n",
      "Blur/5x5/1.4\t0.609375\n",
      "Blur/5x5/1.6\t0.59375\n",
      "Blur/5x5/1.8\t0.578125\n",
      "Blur/5x5/2\t0.578125\n",
      "Blur/5x5/2.2\t0.578125\n",
      "Blur/5x5/2.4\t0.578125\n",
      "Blur/5x5/2.6\t0.578125\n",
      "Blur/5x5/2.8\t0.578125\n",
      "Blur/5x5/3\t0.578125\n",
      "Blur/5x5/3.2\t0.578125\n",
      "Blur/5x5/3.4\t0.578125\n",
      "Blur/5x5/3.6\t0.578125\n",
      "Blur/5x5/3.8\t0.578125\n",
      "Blur/5x5/4\t0.578125\n",
      "Blur/7x7/1\t0.65625\n",
      "Blur/7x7/1.2\t0.625\n",
      "Blur/7x7/1.4\t0.609375\n",
      "Blur/7x7/1.6\t0.59375\n",
      "Blur/7x7/1.8\t0.578125\n",
      "Blur/7x7/2\t0.578125\n",
      "Blur/7x7/2.2\t0.578125\n",
      "Blur/7x7/2.4\t0.578125\n",
      "Blur/7x7/2.6\t0.578125\n",
      "Blur/7x7/2.8\t0.578125\n",
      "Blur/7x7/3\t0.578125\n",
      "Blur/7x7/3.2\t0.578125\n",
      "Blur/7x7/3.4\t0.578125\n",
      "Blur/7x7/3.6\t0.578125\n",
      "Blur/7x7/3.8\t0.578125\n",
      "Blur/7x7/4\t0.578125\n",
      "Sharpen/3x3/2\t0.484375\n",
      "Sharpen/3x3/2.2\t0.5\n",
      "Sharpen/3x3/2.4\t0.46875\n",
      "Sharpen/3x3/2.6\t0.4375\n",
      "Sharpen/3x3/2.8\t0.421875\n",
      "Sharpen/3x3/3\t0.515625\n",
      "Sharpen/3x3/3.2\t0.453125\n",
      "Sharpen/3x3/3.4\t0.4375\n",
      "Sharpen/3x3/3.6\t0.453125\n",
      "Sharpen/3x3/3.8\t0.515625\n",
      "Sharpen/3x3/4\t0.46875\n",
      "Sharpen/3x3/4.2\t0.53125\n",
      "Sharpen/3x3/4.4\t0.5\n",
      "Sharpen/3x3/4.6\t0.5\n",
      "Sharpen/3x3/4.8\t0.578125\n",
      "Sharpen/3x3/5\t0.5\n",
      "Sharpen/5x5/2\t0.484375\n",
      "Sharpen/5x5/2.2\t0.5\n",
      "Sharpen/5x5/2.4\t0.46875\n",
      "Sharpen/5x5/2.6\t0.4375\n",
      "Sharpen/5x5/2.8\t0.421875\n",
      "Sharpen/5x5/3\t0.515625\n",
      "Sharpen/5x5/3.2\t0.453125\n",
      "Sharpen/5x5/3.4\t0.4375\n",
      "Sharpen/5x5/3.6\t0.453125\n",
      "Sharpen/5x5/3.8\t0.515625\n",
      "Sharpen/5x5/4\t0.46875\n",
      "Sharpen/5x5/4.2\t0.53125\n",
      "Sharpen/5x5/4.4\t0.5\n",
      "Sharpen/5x5/4.6\t0.5\n",
      "Sharpen/5x5/4.8\t0.578125\n",
      "Sharpen/5x5/5\t0.5\n",
      "Sharpen/7x7/2\t0.484375\n",
      "Sharpen/7x7/2.2\t0.5\n",
      "Sharpen/7x7/2.4\t0.46875\n",
      "Sharpen/7x7/2.6\t0.4375\n",
      "Sharpen/7x7/2.8\t0.421875\n",
      "Sharpen/7x7/3\t0.515625\n",
      "Sharpen/7x7/3.2\t0.453125\n",
      "Sharpen/7x7/3.4\t0.4375\n",
      "Sharpen/7x7/3.6\t0.453125\n",
      "Sharpen/7x7/3.8\t0.515625\n",
      "Sharpen/7x7/4\t0.46875\n",
      "Sharpen/7x7/4.2\t0.53125\n",
      "Sharpen/7x7/4.4\t0.5\n",
      "Sharpen/7x7/4.6\t0.5\n",
      "Sharpen/7x7/4.8\t0.578125\n",
      "Sharpen/7x7/5\t0.5\n",
      "Median/3\t0.734375\n",
      "Median/5\t0.484375\n",
      "Median/7\t0.484375\n",
      "Median/9\t0.59375\n",
      "Contrast/0.85\t0.40625\n",
      "Contrast/0.9\t0.375\n",
      "Contrast/0.92\t0.28125\n",
      "Contrast/0.94\t0.546875\n",
      "Contrast/0.96\t0.734375\n",
      "Contrast/0.98\t0.875\n",
      "Contrast/1\t1.0\n",
      "Contrast/1.02\t0.890625\n",
      "Contrast/1.04\t0.625\n",
      "Contrast/1.06\t0.421875\n",
      "Contrast/1.08\t0.40625\n",
      "Contrast/1.1\t0.359375\n",
      "Contrast/1.15\t0.40625\n",
      "Brightness/0.85\t0.375\n",
      "Brightness/0.9\t0.359375\n",
      "Brightness/0.92\t0.28125\n",
      "Brightness/0.94\t0.578125\n",
      "Brightness/0.96\t0.71875\n",
      "Brightness/0.98\t0.875\n",
      "Brightness/1\t1.0\n",
      "Brightness/1.02\t0.90625\n",
      "Brightness/1.04\t0.640625\n",
      "Brightness/1.06\t0.421875\n",
      "Brightness/1.08\t0.390625\n",
      "Brightness/1.1\t0.390625\n",
      "Brightness/1.15\t0.390625\n",
      "SaltPepper/0.001\t0.93125\n",
      "SaltPepper/0.005\t0.7875\n",
      "SaltPepper/0.01\t0.58125\n",
      "SaltPepper/0.02\t0.53125\n",
      "SaltPepper/0.03\t0.459375\n",
      "SaltPepper/0.04\t0.5\n",
      "SaltPepper/0.05\t0.553125\n",
      "SaltPepper/0.06\t0.528125\n",
      "SaltPepper/0.07\t0.5375\n",
      "SaltPepper/0.08\t0.565625\n",
      "SaltPepper/0.09\t0.475\n",
      "SaltPepper/0.1\t0.475\n",
      "WhiteNoise/0.05\t0.96875\n",
      "WhiteNoise/0.1\t0.828125\n",
      "WhiteNoise/0.15\t0.71875\n",
      "WhiteNoise/0.2\t0.703125\n",
      "WhiteNoise/0.25\t0.515625\n",
      "WhiteNoise/0.3\t0.46875\n",
      "WhiteNoise/0.35\t0.421875\n",
      "WhiteNoise/0.4\t0.5\n",
      "WhiteNoise/0.45\t0.46875\n",
      "WhiteNoise/0.5\t0.46875\n",
      "WhiteNoise/0.55\t0.515625\n",
      "WhiteNoise/0.6\t0.484375\n",
      "JPEG/100\t1.0\n",
      "JPEG/90\t0.96875\n",
      "JPEG/80\t0.96875\n",
      "JPEG/70\t0.984375\n",
      "JPEG/60\t0.921875\n",
      "JPEG/50\t0.90625\n",
      "JPEG/40\t0.921875\n",
      "JPEG/30\t0.765625\n",
      "JPEG/25\t0.75\n",
      "JPEG/20\t0.71875\n",
      "JPEG/15\t0.71875\n",
      "JPEG/10\t0.5625\n",
      "JPEG/5\t0.515625\n",
      "WebP/100\t1.0\n",
      "WebP/90\t0.953125\n",
      "WebP/80\t0.890625\n",
      "WebP/70\t0.890625\n",
      "WebP/60\t0.875\n",
      "WebP/50\t0.8125\n",
      "WebP/40\t0.8125\n",
      "WebP/30\t0.8125\n",
      "WebP/25\t0.65625\n",
      "WebP/20\t0.625\n",
      "WebP/15\t0.6875\n",
      "WebP/10\t0.671875\n",
      "WebP/5\t0.515625\n",
      "CPU times: user 5.35 s, sys: 382 ms, total: 5.73 s\n",
      "Wall time: 5.47 s\n"
     ]
    }
   ],
   "source": [
    "%%time\n",
    "print(Benchmark(method, data, pos=pos)(im))\n",
    "for b in bs_:\n",
    "    res = b(im)\n",
    "    print(''.join([b.name, '\\t', str(res)]))"
   ]
  },
  {
   "cell_type": "code",
   "execution_count": 22,
   "id": "extensive-wealth",
   "metadata": {},
   "outputs": [],
   "source": [
    "method.unloadVfile()"
   ]
  },
  {
   "cell_type": "code",
   "execution_count": null,
   "id": "initial-convergence",
   "metadata": {},
   "outputs": [],
   "source": []
  }
 ],
 "metadata": {
  "kernelspec": {
   "display_name": "Python 3",
   "language": "python",
   "name": "python3"
  },
  "language_info": {
   "codemirror_mode": {
    "name": "ipython",
    "version": 3
   },
   "file_extension": ".py",
   "mimetype": "text/x-python",
   "name": "python",
   "nbconvert_exporter": "python",
   "pygments_lexer": "ipython3",
   "version": "3.8.5"
  },
  "metadata": {
   "interpreter": {
    "hash": "63fd5069d213b44bf678585dea6b12cceca9941eaf7f819626cde1f2670de90d"
   }
  }
 },
 "nbformat": 4,
 "nbformat_minor": 5
}
