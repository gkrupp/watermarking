{
 "cells": [
  {
   "cell_type": "code",
   "execution_count": 1,
   "id": "characteristic-finish",
   "metadata": {},
   "outputs": [],
   "source": [
    "%config Completer.use_jedi = False\n",
    "%load_ext autoreload\n",
    "%autoreload 2"
   ]
  },
  {
   "cell_type": "code",
   "execution_count": 2,
   "id": "divided-knitting",
   "metadata": {},
   "outputs": [],
   "source": [
    "import numpy as np\n",
    "from wm import Image as PolarImage\n",
    "from PIL import Image"
   ]
  },
  {
   "cell_type": "code",
   "execution_count": 3,
   "id": "silver-silver",
   "metadata": {},
   "outputs": [],
   "source": [
    "from wm.moments import RadialHarmonicFourierMoment\n",
    "from wm.moments import ZernikeMoment, PseudoZernikeMoment"
   ]
  },
  {
   "cell_type": "markdown",
   "id": "adjusted-depth",
   "metadata": {},
   "source": [
    "## Embedding"
   ]
  },
  {
   "cell_type": "code",
   "execution_count": 4,
   "id": "continued-seventh",
   "metadata": {},
   "outputs": [],
   "source": [
    "L = 32\n",
    "# data\n",
    "np.random.seed(0)\n",
    "data = np.random.randint(2, size=L)\n",
    "pos = list(range(len(data)))"
   ]
  },
  {
   "cell_type": "code",
   "execution_count": 5,
   "id": "optical-forwarding",
   "metadata": {},
   "outputs": [
    {
     "data": {
      "text/plain": [
       "array([0, 1, 1, 0, 1, 1, 1, 1, 1, 1, 1, 0, 0, 1, 0, 0, 0, 0, 0, 1, 0, 1,\n",
       "       1, 0, 0, 1, 1, 1, 1, 0, 1, 0])"
      ]
     },
     "execution_count": 5,
     "metadata": {},
     "output_type": "execute_result"
    }
   ],
   "source": [
    "data"
   ]
  },
  {
   "cell_type": "code",
   "execution_count": 6,
   "id": "needed-calibration",
   "metadata": {},
   "outputs": [
    {
     "name": "stdout",
     "output_type": "stream",
     "text": [
      "done                                     \r"
     ]
    }
   ],
   "source": [
    "W = 64\n",
    "order = 16\n",
    "qs = 0.5\n",
    "# method\n",
    "mname = 'ZM'\n",
    "method = ZernikeMoment(order+1, W, qs=qs)\n",
    "# image\n",
    "pim = PolarImage('lena_'+str(W)+'.png')\n",
    "pime = method.encode(pim.grey, data, verbose=True)\n",
    "im = Image.fromarray(pime.im)"
   ]
  },
  {
   "cell_type": "code",
   "execution_count": 7,
   "id": "brief-column",
   "metadata": {},
   "outputs": [],
   "source": [
    "im.save(''.join(['lena_',str(W),'_'+mname+'_','N',str(order),'L',str(L),'.png']))"
   ]
  },
  {
   "cell_type": "code",
   "execution_count": 8,
   "id": "existing-nowhere",
   "metadata": {},
   "outputs": [],
   "source": [
    "imdiff = np.abs(pim.grey.im.astype('float16') - pime.im.astype('float16')).astype('uint8')\n",
    "II = PolarImage(10*imdiff, colored=False)"
   ]
  },
  {
   "cell_type": "code",
   "execution_count": 9,
   "id": "super-stupid",
   "metadata": {},
   "outputs": [],
   "source": [
    "Image.fromarray(II.im).save(''.join(['lena_',str(W),'_'+mname+'_diff_','N',str(order),'L',str(L),'.png']))"
   ]
  },
  {
   "cell_type": "code",
   "execution_count": 10,
   "id": "abstract-liberia",
   "metadata": {},
   "outputs": [
    {
     "data": {
      "image/png": "[encoded data removed]",
      "text/plain": [
       "<Figure size 432x288 with 1 Axes>"
      ]
     },
     "metadata": {
      "needs_background": "light"
     },
     "output_type": "display_data"
    },
    {
     "data": {
      "image/png": "[encoded data removed]",
      "text/plain": [
       "<Figure size 432x288 with 1 Axes>"
      ]
     },
     "metadata": {
      "needs_background": "light"
     },
     "output_type": "display_data"
    }
   ],
   "source": [
    "pime.show()\n",
    "II.show()"
   ]
  },
  {
   "cell_type": "markdown",
   "id": "vietnamese-supplement",
   "metadata": {},
   "source": [
    "## Benchmarks"
   ]
  },
  {
   "cell_type": "code",
   "execution_count": 11,
   "id": "neutral-voice",
   "metadata": {},
   "outputs": [],
   "source": [
    "from wm.benchmarks.geometry import Resize, Rotate, Flip"
   ]
  },
  {
   "cell_type": "code",
   "execution_count": 12,
   "id": "cutting-hayes",
   "metadata": {},
   "outputs": [],
   "source": [
    "# RESIZE\n",
    "scales = [0.2, 0.25, 0.333, 0.5, 0.666, 0.75, 0.8, 1.1, 1.5, 2, 3]\n",
    "bs_resize_nearest = [ Resize(method, data, pos=pos, scale=s, resample=Image.NEAREST, name='RHFM/Resize/Nearest/'+str(s)) for s in scales ]\n",
    "bs_resize_linear  = [ Resize(method, data, pos=pos, scale=s, resample=Image.LINEAR,  name='RHFM/Resize/Linear/'+str(s))  for s in scales ]\n",
    "bs_resize_bicubic = [ Resize(method, data, pos=pos, scale=s, resample=Image.BICUBIC, name='RHFM/Resize/Bicubic/'+str(s)) for s in scales ]\n",
    "bs_resize_lanczos = [ Resize(method, data, pos=pos, scale=s, resample=Image.LANCZOS, name='RHFM/Resize/Lanczos/'+str(s)) for s in scales ]\n",
    "# ROTATE\n",
    "angles = [1, 2, 5, 10, 15, 20, 25, 30, 35, 40, 45, 90, 180, 270]\n",
    "bs_rotate_nearest = [ Rotate(method, data, pos=pos, angle=a, resample=Image.NEAREST, name='RHFM/Rotate/Nearest/'+str(a)) for a in angles ]\n",
    "bs_rotate_linear  = [ Rotate(method, data, pos=pos, angle=a, resample=Image.LINEAR,  name='RHFM/Rotate/Linear/'+str(a))  for a in angles ]\n",
    "bs_rotate_bicubic = [ Rotate(method, data, pos=pos, angle=a, resample=Image.BICUBIC, name='RHFM/Rotate/Bicubic/'+str(a)) for a in angles ]\n",
    "# FLIP\n",
    "flips = [Image.FLIP_LEFT_RIGHT, Image.FLIP_TOP_BOTTOM]\n",
    "bs_flip = [ Flip(method, data, pos=pos, direction=d, name='RHFM/Flip/'+str('UD' if d else 'LR')) for d in flips ]"
   ]
  },
  {
   "cell_type": "code",
   "execution_count": 13,
   "id": "catholic-livestock",
   "metadata": {},
   "outputs": [],
   "source": [
    "from wm.benchmarks.filter import Blur, Sharpen, SaltPapperNoise"
   ]
  },
  {
   "cell_type": "code",
   "execution_count": 14,
   "id": "vertical-national",
   "metadata": {},
   "outputs": [],
   "source": [
    "# GAUSSBLUR\n",
    "blurs = [1, 2, 3, 4, 5]\n",
    "bs_blur = [ Blur(method, data, pos=pos, radius=r, name='RHFM/Blur/'+str(r)) for r in blurs ]\n",
    "# SHARPEN\n",
    "sharpens = [5, 10, 20, 30, 40, 50, 100]\n",
    "bs_sharpen = [ Sharpen(method, data, pos=pos, radius=3, percent=s, name='RHFM/Sharpen/'+str(s)) for s in sharpens ]\n",
    "# GAUSSBLUR\n",
    "sps = [0.01, 0.02, 0.05, 0.1, 0.15, 0.2]\n",
    "bs_saltpepper = [ SaltPapperNoise(method, data, pos=pos, amount=a, name='RHFM/SaltPepper/'+str(a)) for a in sps ]"
   ]
  },
  {
   "cell_type": "code",
   "execution_count": 15,
   "id": "animated-horror",
   "metadata": {},
   "outputs": [],
   "source": [
    "from wm.benchmarks.compression import JPEG, JPEG2000"
   ]
  },
  {
   "cell_type": "code",
   "execution_count": 16,
   "id": "obvious-basement",
   "metadata": {},
   "outputs": [],
   "source": [
    "# JPEG\n",
    "qualities = [100, 95, 90, 85, 80, 75, 70, 65, 60, 50, 10, 5]\n",
    "bs_jpeg = [ JPEG(method, data, pos=pos, quality=q, name='RHFM/JPEG/'+str(q)) for q in qualities ]\n",
    "bs_jpeg2000 = [ JPEG2000(method, data, pos=pos, name='RHFM/JPEG2000') ]"
   ]
  },
  {
   "cell_type": "markdown",
   "id": "varied-popularity",
   "metadata": {},
   "source": [
    "### Run"
   ]
  },
  {
   "cell_type": "code",
   "execution_count": 17,
   "id": "sweet-manitoba",
   "metadata": {},
   "outputs": [],
   "source": [
    "from functools import reduce\n",
    "from wm.benchmarks.Benchmark import Benchmark"
   ]
  },
  {
   "cell_type": "code",
   "execution_count": 18,
   "id": "friendly-trial",
   "metadata": {},
   "outputs": [],
   "source": [
    "bs_ = reduce(lambda a,b: a+b, [\n",
    "    # RESIZE\n",
    "    bs_resize_nearest,\n",
    "    bs_resize_linear,\n",
    "    bs_resize_bicubic,\n",
    "    bs_resize_lanczos,\n",
    "    # ROTATE\n",
    "    bs_rotate_nearest,\n",
    "    bs_rotate_linear,\n",
    "    bs_rotate_bicubic,\n",
    "    # FLIP\n",
    "    bs_flip,\n",
    "    # NOISE\n",
    "    bs_blur,\n",
    "    bs_sharpen,\n",
    "    bs_saltpepper,\n",
    "    # COMPRESSION\n",
    "    bs_jpeg,\n",
    "    bs_jpeg2000,\n",
    "], [])"
   ]
  },
  {
   "cell_type": "code",
   "execution_count": 19,
   "id": "emerging-missile",
   "metadata": {},
   "outputs": [
    {
     "name": "stdout",
     "output_type": "stream",
     "text": [
      "1.0\n",
      "RHFM/Resize/Nearest/0.2\t0.40625\n",
      "RHFM/Resize/Nearest/0.25\t0.71875\n",
      "RHFM/Resize/Nearest/0.333\t0.53125\n",
      "RHFM/Resize/Nearest/0.5\t0.375\n",
      "RHFM/Resize/Nearest/0.666\t0.5625\n",
      "RHFM/Resize/Nearest/0.75\t0.53125\n",
      "RHFM/Resize/Nearest/0.8\t0.625\n",
      "RHFM/Resize/Nearest/1.1\t0.375\n",
      "RHFM/Resize/Nearest/1.5\t0.5\n",
      "RHFM/Resize/Nearest/2\t0.5625\n",
      "RHFM/Resize/Nearest/3\t0.53125\n",
      "RHFM/Resize/Linear/0.2\t0.40625\n",
      "RHFM/Resize/Linear/0.25\t0.71875\n",
      "RHFM/Resize/Linear/0.333\t0.53125\n",
      "RHFM/Resize/Linear/0.5\t0.375\n",
      "RHFM/Resize/Linear/0.666\t0.5625\n",
      "RHFM/Resize/Linear/0.75\t0.53125\n",
      "RHFM/Resize/Linear/0.8\t0.625\n",
      "RHFM/Resize/Linear/1.1\t0.375\n",
      "RHFM/Resize/Linear/1.5\t0.5\n",
      "RHFM/Resize/Linear/2\t0.5625\n",
      "RHFM/Resize/Linear/3\t0.53125\n",
      "RHFM/Resize/Bicubic/0.2\t0.40625\n",
      "RHFM/Resize/Bicubic/0.25\t0.71875\n",
      "RHFM/Resize/Bicubic/0.333\t0.53125\n",
      "RHFM/Resize/Bicubic/0.5\t0.375\n",
      "RHFM/Resize/Bicubic/0.666\t0.5625\n",
      "RHFM/Resize/Bicubic/0.75\t0.53125\n",
      "RHFM/Resize/Bicubic/0.8\t0.625\n",
      "RHFM/Resize/Bicubic/1.1\t0.375\n",
      "RHFM/Resize/Bicubic/1.5\t0.5\n",
      "RHFM/Resize/Bicubic/2\t0.5625\n",
      "RHFM/Resize/Bicubic/3\t0.53125\n",
      "RHFM/Resize/Lanczos/0.2\t0.40625\n",
      "RHFM/Resize/Lanczos/0.25\t0.71875\n",
      "RHFM/Resize/Lanczos/0.333\t0.53125\n",
      "RHFM/Resize/Lanczos/0.5\t0.375\n",
      "RHFM/Resize/Lanczos/0.666\t0.5625\n",
      "RHFM/Resize/Lanczos/0.75\t0.53125\n",
      "RHFM/Resize/Lanczos/0.8\t0.625\n",
      "RHFM/Resize/Lanczos/1.1\t0.375\n",
      "RHFM/Resize/Lanczos/1.5\t0.5\n",
      "RHFM/Resize/Lanczos/2\t0.5625\n",
      "RHFM/Resize/Lanczos/3\t0.53125\n",
      "RHFM/Rotate/Nearest/1\t0.90625\n",
      "RHFM/Rotate/Nearest/2\t0.71875\n",
      "RHFM/Rotate/Nearest/5\t0.375\n",
      "RHFM/Rotate/Nearest/10\t0.65625\n",
      "RHFM/Rotate/Nearest/15\t0.4375\n",
      "RHFM/Rotate/Nearest/20\t0.46875\n",
      "RHFM/Rotate/Nearest/25\t0.59375\n",
      "RHFM/Rotate/Nearest/30\t0.46875\n",
      "RHFM/Rotate/Nearest/35\t0.46875\n",
      "RHFM/Rotate/Nearest/40\t0.59375\n",
      "RHFM/Rotate/Nearest/45\t0.40625\n",
      "RHFM/Rotate/Nearest/90\t1.0\n",
      "RHFM/Rotate/Nearest/180\t1.0\n",
      "RHFM/Rotate/Nearest/270\t1.0\n",
      "RHFM/Rotate/Linear/1\t0.96875\n",
      "RHFM/Rotate/Linear/2\t0.84375\n",
      "RHFM/Rotate/Linear/5\t0.8125\n",
      "RHFM/Rotate/Linear/10\t0.59375\n",
      "RHFM/Rotate/Linear/15\t0.5\n",
      "RHFM/Rotate/Linear/20\t0.40625\n",
      "RHFM/Rotate/Linear/25\t0.5625\n",
      "RHFM/Rotate/Linear/30\t0.53125\n",
      "RHFM/Rotate/Linear/35\t0.3125\n",
      "RHFM/Rotate/Linear/40\t0.375\n",
      "RHFM/Rotate/Linear/45\t0.46875\n",
      "RHFM/Rotate/Linear/90\t1.0\n",
      "RHFM/Rotate/Linear/180\t1.0\n",
      "RHFM/Rotate/Linear/270\t1.0\n",
      "RHFM/Rotate/Bicubic/1\t0.96875\n",
      "RHFM/Rotate/Bicubic/2\t0.84375\n",
      "RHFM/Rotate/Bicubic/5\t0.71875\n",
      "RHFM/Rotate/Bicubic/10\t0.65625\n",
      "RHFM/Rotate/Bicubic/15\t0.6875\n",
      "RHFM/Rotate/Bicubic/20\t0.53125\n",
      "RHFM/Rotate/Bicubic/25\t0.625\n",
      "RHFM/Rotate/Bicubic/30\t0.4375\n",
      "RHFM/Rotate/Bicubic/35\t0.4375\n",
      "RHFM/Rotate/Bicubic/40\t0.46875\n",
      "RHFM/Rotate/Bicubic/45\t0.53125\n",
      "RHFM/Rotate/Bicubic/90\t1.0\n",
      "RHFM/Rotate/Bicubic/180\t1.0\n",
      "RHFM/Rotate/Bicubic/270\t1.0\n",
      "RHFM/Flip/LR\t1.0\n",
      "RHFM/Flip/UD\t1.0\n",
      "RHFM/Blur/1\t0.5\n",
      "RHFM/Blur/2\t0.53125\n",
      "RHFM/Blur/3\t0.46875\n",
      "RHFM/Blur/4\t0.375\n",
      "RHFM/Blur/5\t0.46875\n",
      "RHFM/Sharpen/5\t0.875\n",
      "RHFM/Sharpen/10\t0.5625\n",
      "RHFM/Sharpen/20\t0.4375\n",
      "RHFM/Sharpen/30\t0.5625\n",
      "RHFM/Sharpen/40\t0.4375\n",
      "RHFM/Sharpen/50\t0.5625\n",
      "RHFM/Sharpen/100\t0.46875\n",
      "RHFM/SaltPepper/0.01\t0.59375\n",
      "RHFM/SaltPepper/0.02\t0.59375\n",
      "RHFM/SaltPepper/0.05\t0.46875\n",
      "RHFM/SaltPepper/0.1\t0.5625\n",
      "RHFM/SaltPepper/0.15\t0.34375\n",
      "RHFM/SaltPepper/0.2\t0.375\n",
      "RHFM/JPEG/100\t1.0\n",
      "RHFM/JPEG/95\t1.0\n",
      "RHFM/JPEG/90\t1.0\n",
      "RHFM/JPEG/85\t1.0\n",
      "RHFM/JPEG/80\t0.96875\n",
      "RHFM/JPEG/75\t1.0\n",
      "RHFM/JPEG/70\t0.9375\n",
      "RHFM/JPEG/65\t0.9375\n",
      "RHFM/JPEG/60\t0.90625\n",
      "RHFM/JPEG/50\t0.84375\n",
      "RHFM/JPEG/10\t0.5625\n",
      "RHFM/JPEG/5\t0.6875\n",
      "RHFM/JPEG2000\t1.0\n"
     ]
    }
   ],
   "source": [
    "print(Benchmark(method, data, pos=pos)(im))\n",
    "for b in bs_:\n",
    "    res = b(im)\n",
    "    print(''.join([b.name, '\\t', str(res)]))"
   ]
  },
  {
   "cell_type": "code",
   "execution_count": null,
   "id": "naughty-personal",
   "metadata": {},
   "outputs": [],
   "source": []
  }
 ],
 "metadata": {
  "kernelspec": {
   "display_name": "Python 3",
   "language": "python",
   "name": "python3"
  },
  "language_info": {
   "codemirror_mode": {
    "name": "ipython",
    "version": 3
   },
   "file_extension": ".py",
   "mimetype": "text/x-python",
   "name": "python",
   "nbconvert_exporter": "python",
   "pygments_lexer": "ipython3",
   "version": "3.8.5"
  },
  "metadata": {
   "interpreter": {
    "hash": "63fd5069d213b44bf678585dea6b12cceca9941eaf7f819626cde1f2670de90d"
   }
  }
 },
 "nbformat": 4,
 "nbformat_minor": 5
}
