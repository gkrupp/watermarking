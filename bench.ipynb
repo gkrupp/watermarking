{
 "cells": [
  {
   "cell_type": "code",
   "execution_count": 86,
   "id": "removable-berlin",
   "metadata": {},
   "outputs": [
    {
     "name": "stdout",
     "output_type": "stream",
     "text": [
      "The autoreload extension is already loaded. To reload it, use:\n",
      "  %reload_ext autoreload\n"
     ]
    }
   ],
   "source": [
    "%config Completer.use_jedi = False\n",
    "%load_ext autoreload\n",
    "%autoreload 2"
   ]
  },
  {
   "cell_type": "code",
   "execution_count": 87,
   "id": "innocent-heath",
   "metadata": {},
   "outputs": [],
   "source": [
    "import numpy as np\n",
    "from wm import Image as PolarImage\n",
    "from PIL import Image"
   ]
  },
  {
   "cell_type": "code",
   "execution_count": 144,
   "id": "musical-contamination",
   "metadata": {},
   "outputs": [],
   "source": [
    "from wm.moments import RadialHarmonicFourierMoment\n",
    "from wm.moments import ZernikeMoment, PseudoZernikeMoment"
   ]
  },
  {
   "cell_type": "code",
   "execution_count": 256,
   "id": "discrete-speed",
   "metadata": {},
   "outputs": [],
   "source": [
    "from wm.metrics import SNR, PSNR"
   ]
  },
  {
   "cell_type": "markdown",
   "id": "complimentary-dispute",
   "metadata": {},
   "source": [
    "## Embedding"
   ]
  },
  {
   "cell_type": "code",
   "execution_count": 514,
   "id": "rotary-study",
   "metadata": {},
   "outputs": [],
   "source": [
    "L = 64\n",
    "# data\n",
    "np.random.seed(0)\n",
    "data = np.random.randint(2, size=L)\n",
    "pos = np.array(range(len(data)))"
   ]
  },
  {
   "cell_type": "code",
   "execution_count": 515,
   "id": "coated-value",
   "metadata": {},
   "outputs": [
    {
     "data": {
      "text/plain": [
       "array([0, 1, 1, 0, 1, 1, 1, 1, 1, 1, 1, 0, 0, 1, 0, 0, 0, 0, 0, 1, 0, 1,\n",
       "       1, 0, 0, 1, 1, 1, 1, 0, 1, 0, 1, 0, 1, 1, 0, 1, 1, 0, 0, 1, 0, 1,\n",
       "       1, 1, 1, 1, 0, 1, 0, 1, 1, 1, 1, 0, 1, 0, 0, 1, 1, 0, 1, 0])"
      ]
     },
     "execution_count": 515,
     "metadata": {},
     "output_type": "execute_result"
    }
   ],
   "source": [
    "data"
   ]
  },
  {
   "cell_type": "code",
   "execution_count": 516,
   "id": "parental-continent",
   "metadata": {},
   "outputs": [
    {
     "name": "stdout",
     "output_type": "stream",
     "text": [
      "done                                     \r"
     ]
    }
   ],
   "source": [
    "W = 64\n",
    "order = 20\n",
    "# method\n",
    "method = ZernikeMoment(order+1, W)\n",
    "# image\n",
    "pim = PolarImage('lena_'+str(W)+'.png')\n",
    "pime = method.encode(pim.grey, data, verbose=True)\n",
    "im = Image.fromarray(pime.im)"
   ]
  },
  {
   "cell_type": "code",
   "execution_count": 517,
   "id": "russian-pacific",
   "metadata": {},
   "outputs": [],
   "source": [
    "#im.save(''.join(['lena_',str(W),'_'+method.name+'_','N',str(order),'L',str(L),'.png']))"
   ]
  },
  {
   "cell_type": "code",
   "execution_count": 518,
   "id": "verbal-fossil",
   "metadata": {},
   "outputs": [],
   "source": [
    "imdiff = np.abs(pim.grey.im.astype('float16') - pime.im.astype('float16')).astype('uint8')\n",
    "II = PolarImage(10*imdiff, colored=False)"
   ]
  },
  {
   "cell_type": "code",
   "execution_count": 519,
   "id": "small-pasta",
   "metadata": {},
   "outputs": [],
   "source": [
    "#Image.fromarray(II.im).save(''.join(['lena_',str(W),'_'+method.name+'_diff_','N',str(order),'L',str(L),'.png']))"
   ]
  },
  {
   "cell_type": "code",
   "execution_count": 520,
   "id": "macro-stations",
   "metadata": {},
   "outputs": [
    {
     "name": "stdout",
     "output_type": "stream",
     "text": [
      "PSNR 38.95467338470426 dB\n"
     ]
    },
    {
     "data": {
      "image/png": "[encoded data removed]",
      "text/plain": [
       "<Figure size 432x288 with 1 Axes>"
      ]
     },
     "metadata": {
      "needs_background": "light"
     },
     "output_type": "display_data"
    },
    {
     "data": {
      "image/png": "[encoded data removed]",
      "text/plain": [
       "<Figure size 432x288 with 1 Axes>"
      ]
     },
     "metadata": {
      "needs_background": "light"
     },
     "output_type": "display_data"
    }
   ],
   "source": [
    "print('PSNR', PSNR(pim.grey.im, pime.im), 'dB')\n",
    "pime.show()\n",
    "II.show()"
   ]
  },
  {
   "cell_type": "markdown",
   "id": "descending-pride",
   "metadata": {},
   "source": [
    "## Benchmarks"
   ]
  },
  {
   "cell_type": "code",
   "execution_count": 521,
   "id": "thousand-breathing",
   "metadata": {},
   "outputs": [],
   "source": [
    "from wm.benchmarks.geometry import Resize, Rotate, Flip"
   ]
  },
  {
   "cell_type": "code",
   "execution_count": 522,
   "id": "ordinary-prediction",
   "metadata": {},
   "outputs": [],
   "source": [
    "# RESIZE\n",
    "scales = [0.2, 0.3, 0.4, 0.5, 0.6, 0.7, 0.8, 0.9, 1.1, 1.5, 2, 3]\n",
    "bs_resize_nearest = [ Resize(method, data, pos=pos, scale=s, resample=Image.NEAREST, name='Resize/Nearest/'+str(s)) for s in scales ]\n",
    "bs_resize_linear  = [ Resize(method, data, pos=pos, scale=s, resample=Image.LINEAR,  name='Resize/Linear/'+str(s))  for s in scales ]\n",
    "bs_resize_bicubic = [ Resize(method, data, pos=pos, scale=s, resample=Image.BICUBIC, name='Resize/Bicubic/'+str(s)) for s in scales ]\n",
    "bs_resize_lanczos = [ Resize(method, data, pos=pos, scale=s, resample=Image.LANCZOS, name='Resize/Lanczos/'+str(s)) for s in scales ]\n",
    "# ROTATE\n",
    "angles = [1, 2, 3, 4, 5, 6, 7, 8, 9, 10, 15, 20, 25, 30, 35, 40, 45]\n",
    "bs_rotate_nearest = [ Rotate(method, data, pos=pos, angle=a, resample=Image.NEAREST, name='Rotate/Nearest/'+str(a)) for a in angles ]\n",
    "bs_rotate_linear  = [ Rotate(method, data, pos=pos, angle=a, resample=Image.LINEAR,  name='Rotate/Linear/'+str(a))  for a in angles ]\n",
    "bs_rotate_bicubic = [ Rotate(method, data, pos=pos, angle=a, resample=Image.BICUBIC, name='Rotate/Bicubic/'+str(a)) for a in angles ]\n",
    "# FLIP\n",
    "flips = [Image.FLIP_LEFT_RIGHT, Image.FLIP_TOP_BOTTOM]\n",
    "bs_flip = [ Flip(method, data, pos=pos, direction=d, name='Flip/'+str('UD' if d else 'LR')) for d in flips ]"
   ]
  },
  {
   "cell_type": "code",
   "execution_count": 523,
   "id": "unlikely-latter",
   "metadata": {},
   "outputs": [],
   "source": [
    "from wm.benchmarks.filter import Blur, Sharpen, SaltPapperNoise"
   ]
  },
  {
   "cell_type": "code",
   "execution_count": 524,
   "id": "particular-titanium",
   "metadata": {},
   "outputs": [],
   "source": [
    "# GAUSSBLUR\n",
    "blurs = [1, 2, 3, 4, 5]\n",
    "bs_blur = [ Blur(method, data, pos=pos, radius=r, name='Blur/'+str(r)) for r in blurs ]\n",
    "# SHARPEN\n",
    "sharpens = [5, 10, 20, 30, 40, 50, 100]\n",
    "bs_sharpen = [ Sharpen(method, data, pos=pos, radius=3, percent=s, name='Sharpen/'+str(s)) for s in sharpens ]\n",
    "# GAUSSBLUR\n",
    "sps = [0.01, 0.02, 0.05, 0.1, 0.15, 0.2]\n",
    "bs_saltpepper = [ SaltPapperNoise(method, data, pos=pos, amount=a, name='SaltPepper/'+str(a)) for a in sps ]"
   ]
  },
  {
   "cell_type": "code",
   "execution_count": 525,
   "id": "seeing-therapy",
   "metadata": {},
   "outputs": [],
   "source": [
    "from wm.benchmarks.compression import JPEG, JPEG2000"
   ]
  },
  {
   "cell_type": "code",
   "execution_count": 526,
   "id": "broad-resort",
   "metadata": {},
   "outputs": [],
   "source": [
    "# JPEG\n",
    "qualities = [100, 95, 90, 85, 80, 75, 70, 65, 60, 50, 10, 5]\n",
    "bs_jpeg = [ JPEG(method, data, pos=pos, quality=q, name='JPEG/'+str(q)) for q in qualities ]\n",
    "bs_jpeg2000 = [ JPEG2000(method, data, pos=pos, name='JPEG2000') ]"
   ]
  },
  {
   "cell_type": "markdown",
   "id": "frank-chassis",
   "metadata": {},
   "source": [
    "### Run"
   ]
  },
  {
   "cell_type": "code",
   "execution_count": 527,
   "id": "lightweight-anderson",
   "metadata": {},
   "outputs": [],
   "source": [
    "from functools import reduce\n",
    "from wm.benchmarks.Benchmark import Benchmark"
   ]
  },
  {
   "cell_type": "code",
   "execution_count": 528,
   "id": "olympic-bookmark",
   "metadata": {},
   "outputs": [],
   "source": [
    "bs_ = reduce(lambda a,b: a+b, [\n",
    "    # RESIZE\n",
    "    #bs_resize_nearest,\n",
    "    bs_resize_linear,\n",
    "    #bs_resize_bicubic,\n",
    "    #bs_resize_lanczos,\n",
    "    # ROTATE\n",
    "    #bs_rotate_nearest,\n",
    "    bs_rotate_linear,\n",
    "    #bs_rotate_bicubic,\n",
    "    # FLIP\n",
    "    bs_flip,\n",
    "    # NOISE\n",
    "    bs_blur,\n",
    "    bs_sharpen,\n",
    "    bs_saltpepper,\n",
    "    # COMPRESSION\n",
    "    bs_jpeg,\n",
    "    bs_jpeg2000,\n",
    "], [])"
   ]
  },
  {
   "cell_type": "code",
   "execution_count": 529,
   "id": "american-jonathan",
   "metadata": {},
   "outputs": [
    {
     "name": "stdout",
     "output_type": "stream",
     "text": [
      "1.0\n",
      "Resize/Linear/0.2\t0.453125\n",
      "Resize/Linear/0.3\t0.453125\n",
      "Resize/Linear/0.4\t0.53125\n",
      "Resize/Linear/0.5\t0.59375\n",
      "Resize/Linear/0.6\t0.65625\n",
      "Resize/Linear/0.7\t0.875\n",
      "Resize/Linear/0.8\t0.921875\n",
      "Resize/Linear/0.9\t0.953125\n",
      "Resize/Linear/1.1\t1.0\n",
      "Resize/Linear/1.5\t0.96875\n",
      "Resize/Linear/2\t0.90625\n",
      "Resize/Linear/3\t0.859375\n",
      "Rotate/Linear/1\t0.984375\n",
      "Rotate/Linear/2\t0.9375\n",
      "Rotate/Linear/3\t0.921875\n",
      "Rotate/Linear/4\t0.921875\n",
      "Rotate/Linear/5\t0.984375\n",
      "Rotate/Linear/6\t0.984375\n",
      "Rotate/Linear/7\t0.96875\n",
      "Rotate/Linear/8\t0.90625\n",
      "Rotate/Linear/9\t0.90625\n",
      "Rotate/Linear/10\t0.9375\n",
      "Rotate/Linear/15\t0.890625\n",
      "Rotate/Linear/20\t0.875\n",
      "Rotate/Linear/25\t0.875\n",
      "Rotate/Linear/30\t0.875\n",
      "Rotate/Linear/35\t0.921875\n",
      "Rotate/Linear/40\t0.9375\n",
      "Rotate/Linear/45\t0.953125\n",
      "Flip/LR\t1.0\n",
      "Flip/UD\t1.0\n",
      "Blur/1\t0.59375\n",
      "Blur/2\t0.484375\n",
      "Blur/3\t0.484375\n",
      "Blur/4\t0.4375\n",
      "Blur/5\t0.390625\n",
      "Sharpen/5\t1.0\n",
      "Sharpen/10\t0.921875\n",
      "Sharpen/20\t0.546875\n",
      "Sharpen/30\t0.359375\n",
      "Sharpen/40\t0.4375\n",
      "Sharpen/50\t0.5\n",
      "Sharpen/100\t0.53125\n",
      "SaltPepper/0.01\t0.671875\n",
      "SaltPepper/0.02\t0.578125\n",
      "SaltPepper/0.05\t0.6875\n",
      "SaltPepper/0.1\t0.609375\n",
      "SaltPepper/0.15\t0.546875\n",
      "SaltPepper/0.2\t0.421875\n",
      "JPEG/100\t1.0\n",
      "JPEG/95\t1.0\n",
      "JPEG/90\t1.0\n",
      "JPEG/85\t1.0\n",
      "JPEG/80\t1.0\n",
      "JPEG/75\t1.0\n",
      "JPEG/70\t1.0\n",
      "JPEG/65\t1.0\n",
      "JPEG/60\t1.0\n",
      "JPEG/50\t0.96875\n",
      "JPEG/10\t0.625\n",
      "JPEG/5\t0.484375\n",
      "JPEG2000\t1.0\n"
     ]
    }
   ],
   "source": [
    "print(Benchmark(method, data, pos=pos)(im))\n",
    "for b in bs_:\n",
    "    res = b(im)\n",
    "    print(''.join([b.name, '\\t', str(res)]))"
   ]
  },
  {
   "cell_type": "code",
   "execution_count": null,
   "id": "little-hormone",
   "metadata": {},
   "outputs": [],
   "source": []
  }
 ],
 "metadata": {
  "kernelspec": {
   "display_name": "Python 3",
   "language": "python",
   "name": "python3"
  },
  "language_info": {
   "codemirror_mode": {
    "name": "ipython",
    "version": 3
   },
   "file_extension": ".py",
   "mimetype": "text/x-python",
   "name": "python",
   "nbconvert_exporter": "python",
   "pygments_lexer": "ipython3",
   "version": "3.8.5"
  },
  "metadata": {
   "interpreter": {
    "hash": "63fd5069d213b44bf678585dea6b12cceca9941eaf7f819626cde1f2670de90d"
   }
  }
 },
 "nbformat": 4,
 "nbformat_minor": 5
}
