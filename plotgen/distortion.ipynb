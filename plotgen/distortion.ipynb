{
 "cells": [
  {
   "cell_type": "code",
   "execution_count": 149,
   "id": "thick-novelty",
   "metadata": {},
   "outputs": [
    {
     "name": "stdout",
     "output_type": "stream",
     "text": [
      "The autoreload extension is already loaded. To reload it, use:\n",
      "  %reload_ext autoreload\n"
     ]
    }
   ],
   "source": [
    "%config Completer.use_jedi = False\n",
    "%load_ext autoreload\n",
    "%autoreload 2"
   ]
  },
  {
   "cell_type": "code",
   "execution_count": 150,
   "id": "outside-efficiency",
   "metadata": {},
   "outputs": [],
   "source": [
    "import os, sys\n",
    "sys.path.append(os.path.abspath('..'))"
   ]
  },
  {
   "cell_type": "code",
   "execution_count": 164,
   "id": "monthly-decade",
   "metadata": {},
   "outputs": [],
   "source": [
    "import numpy as np\n",
    "import pandas as pd\n",
    "from wm import Image as PolarImage\n",
    "from PIL import Image"
   ]
  },
  {
   "cell_type": "code",
   "execution_count": 165,
   "id": "configured-voltage",
   "metadata": {},
   "outputs": [],
   "source": [
    "from wm.moments import RadialHarmonicFourierMoment\n",
    "from wm.moments import ZernikeMoment, PseudoZernikeMoment"
   ]
  },
  {
   "cell_type": "code",
   "execution_count": 166,
   "id": "applicable-stake",
   "metadata": {},
   "outputs": [],
   "source": [
    "from multiprocessing import Pool"
   ]
  },
  {
   "cell_type": "code",
   "execution_count": 173,
   "id": "matched-acceptance",
   "metadata": {},
   "outputs": [],
   "source": [
    "images = ['airplane_128']#, 'arctichare', 'baboon', 'barbara', 'boat', 'fruits', 'lena', 'monarch', 'peppers', 'zelda']"
   ]
  },
  {
   "cell_type": "markdown",
   "id": "casual-tackle",
   "metadata": {},
   "source": [
    "# Distortion"
   ]
  },
  {
   "cell_type": "code",
   "execution_count": 174,
   "id": "extended-bookmark",
   "metadata": {},
   "outputs": [],
   "source": [
    "from wm.benchmarks.utils import run\n",
    "from wm.benchmarks.distortion import MSE, SNR, PSNR"
   ]
  },
  {
   "cell_type": "code",
   "execution_count": 175,
   "id": "valuable-senate",
   "metadata": {},
   "outputs": [],
   "source": [
    "W = 128\n",
    "Ls = [0, 8, 16, 24]\n",
    "repetitions = 2\n",
    "method = RadialHarmonicFourierMoment(order+1, W)"
   ]
  },
  {
   "cell_type": "code",
   "execution_count": 176,
   "id": "otherwise-transparency",
   "metadata": {},
   "outputs": [],
   "source": [
    "def gen_bs(method, data, pos, im):\n",
    "    return [\n",
    "        MSE(method, data, pos=pos, original=im),\n",
    "        SNR(method, data, pos=pos, original=im),\n",
    "        PSNR(method, data, pos=pos, original=im)\n",
    "    ]"
   ]
  },
  {
   "cell_type": "code",
   "execution_count": 178,
   "id": "brave-brunei",
   "metadata": {},
   "outputs": [
    {
     "name": "stdout",
     "output_type": "stream",
     "text": [
      "airplane_128 0 0\n",
      "airplane_128 0 1\n",
      "airplane_128 8 0\n",
      "airplane_128 8 1\n"
     ]
    },
    {
     "name": "stderr",
     "output_type": "stream",
     "text": [
      "/mnt/c/Users/gkrupp/Desktop/M/watermarking/wm/metrics/noise.py:10: RuntimeWarning: divide by zero encountered in double_scalars\n",
      "  return 1/(w*h) * np.sum(X**2) / MSE(X, Y)\n",
      "/mnt/c/Users/gkrupp/Desktop/M/watermarking/wm/metrics/noise.py:10: RuntimeWarning: divide by zero encountered in double_scalars\n",
      "  return 1/(w*h) * np.sum(X**2) / MSE(X, Y)\n",
      "/mnt/c/Users/gkrupp/Desktop/M/watermarking/wm/metrics/noise.py:13: RuntimeWarning: divide by zero encountered in true_divide\n",
      "  return 20 * np.log10(np.max(X)/np.sqrt(MSE(X, Y)))\n"
     ]
    },
    {
     "name": "stdout",
     "output_type": "stream",
     "text": [
      "airplane_128 16 0\n"
     ]
    },
    {
     "name": "stderr",
     "output_type": "stream",
     "text": [
      "/mnt/c/Users/gkrupp/Desktop/M/watermarking/wm/metrics/noise.py:13: RuntimeWarning: divide by zero encountered in true_divide\n",
      "  return 20 * np.log10(np.max(X)/np.sqrt(MSE(X, Y)))\n"
     ]
    },
    {
     "name": "stdout",
     "output_type": "stream",
     "text": [
      "airplane_128 16 1\n",
      "airplane_128 24 0\n",
      "airplane_128 24 1\n"
     ]
    },
    {
     "data": {
      "text/html": [
       "<div>\n",
       "<style scoped>\n",
       "    .dataframe tbody tr th:only-of-type {\n",
       "        vertical-align: middle;\n",
       "    }\n",
       "\n",
       "    .dataframe tbody tr th {\n",
       "        vertical-align: top;\n",
       "    }\n",
       "\n",
       "    .dataframe thead th {\n",
       "        text-align: right;\n",
       "    }\n",
       "</style>\n",
       "<table border=\"1\" class=\"dataframe\">\n",
       "  <thead>\n",
       "    <tr style=\"text-align: right;\">\n",
       "      <th></th>\n",
       "      <th>im</th>\n",
       "      <th>L</th>\n",
       "      <th>k</th>\n",
       "      <th>MSE</th>\n",
       "      <th>SNR</th>\n",
       "      <th>PSNR</th>\n",
       "    </tr>\n",
       "  </thead>\n",
       "  <tbody>\n",
       "    <tr>\n",
       "      <th>0</th>\n",
       "      <td>airplane_128</td>\n",
       "      <td>0</td>\n",
       "      <td>0</td>\n",
       "      <td>0.000000</td>\n",
       "      <td>inf</td>\n",
       "      <td>inf</td>\n",
       "    </tr>\n",
       "    <tr>\n",
       "      <th>1</th>\n",
       "      <td>airplane_128</td>\n",
       "      <td>0</td>\n",
       "      <td>1</td>\n",
       "      <td>0.000000</td>\n",
       "      <td>inf</td>\n",
       "      <td>inf</td>\n",
       "    </tr>\n",
       "    <tr>\n",
       "      <th>2</th>\n",
       "      <td>airplane_128</td>\n",
       "      <td>8</td>\n",
       "      <td>0</td>\n",
       "      <td>0.954895</td>\n",
       "      <td>121.640780</td>\n",
       "      <td>48.019146</td>\n",
       "    </tr>\n",
       "    <tr>\n",
       "      <th>3</th>\n",
       "      <td>airplane_128</td>\n",
       "      <td>8</td>\n",
       "      <td>1</td>\n",
       "      <td>0.599854</td>\n",
       "      <td>193.637566</td>\n",
       "      <td>50.038250</td>\n",
       "    </tr>\n",
       "    <tr>\n",
       "      <th>4</th>\n",
       "      <td>airplane_128</td>\n",
       "      <td>16</td>\n",
       "      <td>0</td>\n",
       "      <td>2.011536</td>\n",
       "      <td>57.744030</td>\n",
       "      <td>44.783425</td>\n",
       "    </tr>\n",
       "    <tr>\n",
       "      <th>5</th>\n",
       "      <td>airplane_128</td>\n",
       "      <td>16</td>\n",
       "      <td>1</td>\n",
       "      <td>2.003784</td>\n",
       "      <td>57.967408</td>\n",
       "      <td>44.800193</td>\n",
       "    </tr>\n",
       "    <tr>\n",
       "      <th>6</th>\n",
       "      <td>airplane_128</td>\n",
       "      <td>24</td>\n",
       "      <td>0</td>\n",
       "      <td>2.636292</td>\n",
       "      <td>44.059686</td>\n",
       "      <td>43.608768</td>\n",
       "    </tr>\n",
       "    <tr>\n",
       "      <th>7</th>\n",
       "      <td>airplane_128</td>\n",
       "      <td>24</td>\n",
       "      <td>1</td>\n",
       "      <td>2.211853</td>\n",
       "      <td>52.514418</td>\n",
       "      <td>44.371139</td>\n",
       "    </tr>\n",
       "  </tbody>\n",
       "</table>\n",
       "</div>"
      ],
      "text/plain": [
       "             im   L  k       MSE         SNR       PSNR\n",
       "0  airplane_128   0  0  0.000000         inf        inf\n",
       "1  airplane_128   0  1  0.000000         inf        inf\n",
       "2  airplane_128   8  0  0.954895  121.640780  48.019146\n",
       "3  airplane_128   8  1  0.599854  193.637566  50.038250\n",
       "4  airplane_128  16  0  2.011536   57.744030  44.783425\n",
       "5  airplane_128  16  1  2.003784   57.967408  44.800193\n",
       "6  airplane_128  24  0  2.636292   44.059686  43.608768\n",
       "7  airplane_128  24  1  2.211853   52.514418  44.371139"
      ]
     },
     "execution_count": 178,
     "metadata": {},
     "output_type": "execute_result"
    }
   ],
   "source": [
    "run(method, images, Ls, repetitions, gen_bs, '../images/monochrome/')"
   ]
  },
  {
   "cell_type": "code",
   "execution_count": null,
   "id": "upper-amino",
   "metadata": {},
   "outputs": [],
   "source": []
  }
 ],
 "metadata": {
  "kernelspec": {
   "display_name": "Python 3",
   "language": "python",
   "name": "python3"
  },
  "language_info": {
   "codemirror_mode": {
    "name": "ipython",
    "version": 3
   },
   "file_extension": ".py",
   "mimetype": "text/x-python",
   "name": "python",
   "nbconvert_exporter": "python",
   "pygments_lexer": "ipython3",
   "version": "3.8.5"
  }
 },
 "nbformat": 4,
 "nbformat_minor": 5
}
