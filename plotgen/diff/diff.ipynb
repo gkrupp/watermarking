{
 "cells": [
  {
   "cell_type": "code",
   "execution_count": 1,
   "id": "entertaining-sentence",
   "metadata": {},
   "outputs": [],
   "source": [
    "%config Completer.use_jedi = False\n",
    "%load_ext autoreload\n",
    "%autoreload 2"
   ]
  },
  {
   "cell_type": "code",
   "execution_count": 2,
   "id": "objective-proportion",
   "metadata": {},
   "outputs": [],
   "source": [
    "import os, sys\n",
    "sys.path.append(os.path.abspath('../..'))"
   ]
  },
  {
   "cell_type": "code",
   "execution_count": 3,
   "id": "fitting-seminar",
   "metadata": {},
   "outputs": [],
   "source": [
    "import numpy as np"
   ]
  },
  {
   "cell_type": "code",
   "execution_count": 4,
   "id": "partial-berkeley",
   "metadata": {},
   "outputs": [],
   "source": [
    "from wm import Image as Image\n",
    "from wm.moments import RadialHarmonicFourierMoment\n",
    "from wm.moments import ZernikeMoment, PseudoZernikeMoment\n",
    "from wm.metrics import PSNR"
   ]
  },
  {
   "cell_type": "code",
   "execution_count": 11,
   "id": "baking-religious",
   "metadata": {},
   "outputs": [],
   "source": [
    "w = np.random.randint(2, size=64)"
   ]
  },
  {
   "cell_type": "code",
   "execution_count": 18,
   "id": "treated-cover",
   "metadata": {},
   "outputs": [
    {
     "data": {
      "text/plain": [
       "array([0, 0, 0, 1, 0, 1, 1, 1, 0, 1, 1, 0, 0, 1, 0, 1, 1, 1, 1, 0, 0, 1,\n",
       "       1, 0, 0, 0, 0, 1, 1, 1, 0, 0, 0, 1, 0, 1, 0, 1, 0, 1, 1, 0, 0, 1,\n",
       "       0, 0, 0, 1, 1, 1, 0, 1, 1, 0, 0, 1, 0, 0, 1, 1, 1, 1, 1, 1])"
      ]
     },
     "execution_count": 18,
     "metadata": {},
     "output_type": "execute_result"
    }
   ],
   "source": [
    "w"
   ]
  },
  {
   "cell_type": "code",
   "execution_count": 25,
   "id": "preliminary-sydney",
   "metadata": {},
   "outputs": [],
   "source": [
    "def gen_embedded(method, image, w, N=256, magnify=10):\n",
    "    im = Image('../../images/monochrome/'+image+'_'+str(N)+'.png', colored=False)\n",
    "    method = method(50, N, Vfile='../../V_'+method.name+'_'+str(N)+'.h5')\n",
    "    ime = method.encode(im, w, verbose=True)\n",
    "    #\n",
    "    print(PSNR(im.im, ime.im))\n",
    "    #\n",
    "    ime.save(image+'_'+method.name+'.enc.png')\n",
    "    #ime.show()\n",
    "    imdiff = np.abs(im.im.astype('float16') - ime.im.astype('float16')).astype('uint8')\n",
    "    II = Image(magnify*imdiff, colored=False)\n",
    "    II.save(image+'_'+method.name+'.diff.png')\n",
    "    #II.show()\n",
    "    #\n",
    "    method.unloadVfile()"
   ]
  },
  {
   "cell_type": "code",
   "execution_count": 26,
   "id": "threatened-superintendent",
   "metadata": {},
   "outputs": [],
   "source": [
    "N=256"
   ]
  },
  {
   "cell_type": "code",
   "execution_count": 27,
   "id": "medium-klein",
   "metadata": {},
   "outputs": [
    {
     "name": "stdout",
     "output_type": "stream",
     "text": [
      "40.473832538032006                         \n"
     ]
    }
   ],
   "source": [
    "gen_embedded(RadialHarmonicFourierMoment, 'lena', w, N)"
   ]
  },
  {
   "cell_type": "code",
   "execution_count": 28,
   "id": "angry-replication",
   "metadata": {},
   "outputs": [
    {
     "name": "stdout",
     "output_type": "stream",
     "text": [
      "40.36626677769365                          \n"
     ]
    }
   ],
   "source": [
    "gen_embedded(ZernikeMoment, 'lena', w, N)"
   ]
  },
  {
   "cell_type": "code",
   "execution_count": 29,
   "id": "patient-concern",
   "metadata": {},
   "outputs": [
    {
     "name": "stdout",
     "output_type": "stream",
     "text": [
      "40.444223006302956                         \n"
     ]
    }
   ],
   "source": [
    "gen_embedded(PseudoZernikeMoment, 'lena', w, N)"
   ]
  },
  {
   "cell_type": "code",
   "execution_count": null,
   "id": "authorized-ranch",
   "metadata": {},
   "outputs": [],
   "source": []
  }
 ],
 "metadata": {
  "kernelspec": {
   "display_name": "Python 3",
   "language": "python",
   "name": "python3"
  },
  "language_info": {
   "codemirror_mode": {
    "name": "ipython",
    "version": 3
   },
   "file_extension": ".py",
   "mimetype": "text/x-python",
   "name": "python",
   "nbconvert_exporter": "python",
   "pygments_lexer": "ipython3",
   "version": "3.8.5"
  }
 },
 "nbformat": 4,
 "nbformat_minor": 5
}
