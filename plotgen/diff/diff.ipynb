{
 "cells": [
  {
   "cell_type": "code",
   "execution_count": 1,
   "id": "sustained-liver",
   "metadata": {},
   "outputs": [],
   "source": [
    "%config Completer.use_jedi = False\n",
    "%load_ext autoreload\n",
    "%autoreload 2"
   ]
  },
  {
   "cell_type": "code",
   "execution_count": 2,
   "id": "pregnant-adaptation",
   "metadata": {},
   "outputs": [],
   "source": [
    "import os, sys\n",
    "sys.path.append(os.path.abspath('../..'))"
   ]
  },
  {
   "cell_type": "code",
   "execution_count": 3,
   "id": "polar-commitment",
   "metadata": {},
   "outputs": [],
   "source": [
    "import numpy as np"
   ]
  },
  {
   "cell_type": "code",
   "execution_count": 4,
   "id": "generic-russell",
   "metadata": {},
   "outputs": [],
   "source": [
    "from wm import Image as Image\n",
    "from wm.moments import RadialHarmonicFourierMoment\n",
    "from wm.moments import ZernikeMoment, PseudoZernikeMoment\n",
    "from wm.metrics import PSNR"
   ]
  },
  {
   "cell_type": "code",
   "execution_count": 5,
   "id": "exceptional-fraction",
   "metadata": {},
   "outputs": [],
   "source": [
    "w = np.random.randint(2, size=128)"
   ]
  },
  {
   "cell_type": "code",
   "execution_count": 6,
   "id": "dated-monster",
   "metadata": {},
   "outputs": [
    {
     "data": {
      "text/plain": [
       "array([0, 1, 1, 1, 1, 0, 1, 1, 0, 0, 1, 0, 1, 0, 1, 0, 0, 0, 1, 1, 0, 0,\n",
       "       0, 0, 1, 0, 1, 0, 1, 0, 0, 0, 0, 0, 0, 1, 1, 0, 1, 0, 1, 1, 1, 0,\n",
       "       0, 1, 1, 0, 1, 0, 0, 0, 1, 1, 0, 1, 0, 1, 1, 0, 0, 1, 0, 1, 1, 0,\n",
       "       1, 1, 0, 1, 0, 1, 0, 1, 0, 1, 0, 0, 0, 1, 0, 0, 0, 0, 1, 0, 1, 0,\n",
       "       1, 0, 1, 0, 0, 1, 1, 1, 1, 1, 0, 0, 1, 1, 1, 0, 0, 1, 0, 0, 1, 1,\n",
       "       0, 1, 0, 0, 1, 1, 0, 0, 0, 0, 0, 0, 1, 0, 1, 1, 1, 1])"
      ]
     },
     "execution_count": 6,
     "metadata": {},
     "output_type": "execute_result"
    }
   ],
   "source": [
    "w"
   ]
  },
  {
   "cell_type": "code",
   "execution_count": 7,
   "id": "finished-uncle",
   "metadata": {},
   "outputs": [],
   "source": [
    "def gen_embedded(method, image, w, N=256, magnify=10):\n",
    "    im = Image('../../images/monochrome/'+image+'_'+str(N)+'.png', colored=False)\n",
    "    method = method(50, N, Vfile='../../V_'+method.name+'_'+str(N)+'.h5')\n",
    "    ime = method.encode(im, w, verbose=True)\n",
    "    #\n",
    "    print(PSNR(im.im, ime.im))\n",
    "    #\n",
    "    ime.save(image+'_'+method.name+'.enc.png')\n",
    "    #ime.show()\n",
    "    imdiff = np.abs(im.im.astype('float16') - ime.im.astype('float16')).astype('uint8')\n",
    "    II = Image(magnify*imdiff, colored=False)\n",
    "    II.save(image+'_'+method.name+'.diff.png')\n",
    "    #II.show()\n",
    "    #\n",
    "    method.unloadVfile()"
   ]
  },
  {
   "cell_type": "code",
   "execution_count": 8,
   "id": "balanced-antigua",
   "metadata": {},
   "outputs": [],
   "source": [
    "N=256"
   ]
  },
  {
   "cell_type": "code",
   "execution_count": 9,
   "id": "described-conversion",
   "metadata": {},
   "outputs": [
    {
     "name": "stdout",
     "output_type": "stream",
     "text": [
      "40.769735892760224                         \n"
     ]
    }
   ],
   "source": [
    "gen_embedded(RadialHarmonicFourierMoment, 'lena', w, N)"
   ]
  },
  {
   "cell_type": "code",
   "execution_count": 10,
   "id": "gorgeous-carry",
   "metadata": {},
   "outputs": [
    {
     "name": "stdout",
     "output_type": "stream",
     "text": [
      "41.031602688244774                         \n"
     ]
    }
   ],
   "source": [
    "gen_embedded(ZernikeMoment, 'lena', w, N)"
   ]
  },
  {
   "cell_type": "code",
   "execution_count": 11,
   "id": "widespread-funds",
   "metadata": {},
   "outputs": [
    {
     "name": "stdout",
     "output_type": "stream",
     "text": [
      "41.06900920321259                          \n"
     ]
    }
   ],
   "source": [
    "gen_embedded(PseudoZernikeMoment, 'lena', w, N)"
   ]
  },
  {
   "cell_type": "code",
   "execution_count": null,
   "id": "spectacular-publisher",
   "metadata": {},
   "outputs": [],
   "source": []
  }
 ],
 "metadata": {
  "kernelspec": {
   "display_name": "Python 3",
   "language": "python",
   "name": "python3"
  },
  "language_info": {
   "codemirror_mode": {
    "name": "ipython",
    "version": 3
   },
   "file_extension": ".py",
   "mimetype": "text/x-python",
   "name": "python",
   "nbconvert_exporter": "python",
   "pygments_lexer": "ipython3",
   "version": "3.8.5"
  }
 },
 "nbformat": 4,
 "nbformat_minor": 5
}
