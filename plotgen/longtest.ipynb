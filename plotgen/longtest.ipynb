{
 "cells": [
  {
   "cell_type": "code",
   "execution_count": 1,
   "id": "introductory-sucking",
   "metadata": {},
   "outputs": [],
   "source": [
    "%config Completer.use_jedi = False\n",
    "%load_ext autoreload\n",
    "%autoreload 2"
   ]
  },
  {
   "cell_type": "code",
   "execution_count": 2,
   "id": "meaning-dialogue",
   "metadata": {},
   "outputs": [],
   "source": [
    "import os, sys\n",
    "sys.path.append(os.path.abspath('..'))"
   ]
  },
  {
   "cell_type": "code",
   "execution_count": 3,
   "id": "statewide-score",
   "metadata": {},
   "outputs": [],
   "source": [
    "import numpy as np\n",
    "import pandas as pd\n",
    "from wm import Image as PolarImage\n",
    "from PIL import Image"
   ]
  },
  {
   "cell_type": "code",
   "execution_count": 4,
   "id": "compressed-application",
   "metadata": {},
   "outputs": [],
   "source": [
    "from wm.moments import RadialHarmonicFourierMoment\n",
    "from wm.moments import ZernikeMoment, PseudoZernikeMoment"
   ]
  },
  {
   "cell_type": "code",
   "execution_count": 21,
   "id": "figured-jonathan",
   "metadata": {},
   "outputs": [],
   "source": [
    "from functools import reduce\n",
    "from multiprocessing import Pool"
   ]
  },
  {
   "cell_type": "markdown",
   "id": "cutting-shepherd",
   "metadata": {},
   "source": [
    "# benches"
   ]
  },
  {
   "cell_type": "code",
   "execution_count": 110,
   "id": "working-logging",
   "metadata": {},
   "outputs": [],
   "source": [
    "from wm.benchmarks.utils import run\n",
    "from wm.benchmarks.distortion import MSE, SNR, PSNR\n",
    "from wm.benchmarks.geometry import Resize, Rotate, Flip\n",
    "from wm.benchmarks.noise import Blur, Sharpen, SaltPapperNoise\n",
    "from wm.benchmarks.compression import JPEG, JPEG2000"
   ]
  },
  {
   "cell_type": "code",
   "execution_count": 111,
   "id": "international-surveillance",
   "metadata": {},
   "outputs": [],
   "source": [
    "W = 64\n",
    "images = list(map(lambda name: name+'_'+str(W), [\n",
    "    'airplane',\n",
    "    'arctichare',\n",
    "    'baboon',\n",
    "    'barbara',\n",
    "    'boat',\n",
    "    'fruits',\n",
    "    'lena',\n",
    "    'monarch',\n",
    "    'peppers',\n",
    "    'zelda'\n",
    "]))"
   ]
  },
  {
   "cell_type": "code",
   "execution_count": 112,
   "id": "technical-purse",
   "metadata": {},
   "outputs": [],
   "source": [
    "def gen_bs(method, data, pos, im):\n",
    "    scales = [0.2, 0.3, 0.4, 0.5, 0.6, 0.7, 0.8, 0.9, 1.1, 1.5, 2, 3]\n",
    "    angles = [1, 2, 3, 4, 5, 6, 7, 8, 9, 10, 15, 20, 25, 30, 35, 40, 45]\n",
    "    flips = [Image.FLIP_LEFT_RIGHT, Image.FLIP_TOP_BOTTOM]\n",
    "    saltpepper = [0.01, 0.02, 0.05, 0.1, 0.15, 0.2]\n",
    "    # METRICS\n",
    "    bs_metrics = [\n",
    "        MSE(method, data, pos=pos, original=im),\n",
    "        SNR(method, data, pos=pos, original=im),\n",
    "        PSNR(method, data, pos=pos, original=im)\n",
    "    ]\n",
    "    # RESIZE\n",
    "    scales = [0.2, 0.3, 0.4, 0.5, 0.6, 0.7, 0.8, 0.9, 1.1, 1.5, 2, 3]\n",
    "    bs_resize_nearest = [ Resize(method, data, pos=pos, scale=s, resample=Image.NEAREST, name='Resize/Nearest/'+str(s)) for s in scales ]\n",
    "    bs_resize_linear  = [ Resize(method, data, pos=pos, scale=s, resample=Image.LINEAR,  name='Resize/Linear/'+str(s))  for s in scales ]\n",
    "    bs_resize_bicubic = [ Resize(method, data, pos=pos, scale=s, resample=Image.BICUBIC, name='Resize/Bicubic/'+str(s)) for s in scales ]\n",
    "    bs_resize_lanczos = [ Resize(method, data, pos=pos, scale=s, resample=Image.LANCZOS, name='Resize/Lanczos/'+str(s)) for s in scales ]\n",
    "    # ROTATE\n",
    "    angles = [1, 2, 3, 4, 5, 6, 7, 8, 9, 10, 15, 20, 25, 30, 35, 40, 45]\n",
    "    bs_rotate_nearest = [ Rotate(method, data, pos=pos, angle=a, resample=Image.NEAREST, name='Rotate/Nearest/'+str(a)) for a in angles ]\n",
    "    bs_rotate_linear  = [ Rotate(method, data, pos=pos, angle=a, resample=Image.LINEAR,  name='Rotate/Linear/'+str(a))  for a in angles ]\n",
    "    bs_rotate_bicubic = [ Rotate(method, data, pos=pos, angle=a, resample=Image.BICUBIC, name='Rotate/Bicubic/'+str(a)) for a in angles ]\n",
    "    # FLIP\n",
    "    flips = [Image.FLIP_LEFT_RIGHT, Image.FLIP_TOP_BOTTOM]\n",
    "    bs_flip = [ Flip(method, data, pos=pos, direction=d, name='Flip/'+str('UD' if d else 'LR')) for d in flips ]\n",
    "    # GAUSSBLUR\n",
    "    blurs = [1, 2, 3, 4, 5]\n",
    "    bs_blur = [ Blur(method, data, pos=pos, radius=r, name='Blur/'+str(r)) for r in blurs ]\n",
    "    # SHARPEN\n",
    "    sharpens = [5, 10, 20, 30, 40, 50, 100]\n",
    "    bs_sharpen = [ Sharpen(method, data, pos=pos, radius=3, percent=s, name='Sharpen/'+str(s)) for s in sharpens ]\n",
    "    # GAUSSBLUR\n",
    "    sps = [0.01, 0.02, 0.05, 0.1, 0.15, 0.2]\n",
    "    bs_saltpepper = [ SaltPapperNoise(method, data, pos=pos, amount=a, name='SaltPepper/'+str(a)) for a in sps ]\n",
    "    # JPEG\n",
    "    qualities = [100, 95, 90, 85, 80, 75, 70, 65, 60, 50, 10, 5]\n",
    "    bs_jpeg = [ JPEG(method, data, pos=pos, quality=q, name='JPEG/'+str(q)) for q in qualities ]\n",
    "    bs_jpeg2000 = [ JPEG2000(method, data, pos=pos, name='JPEG2000') ]\n",
    "    ###\n",
    "    ###\n",
    "    return reduce(lambda a,b: a+b, [\n",
    "        # RESIZE\n",
    "        #bs_resize_nearest,\n",
    "        bs_resize_linear,\n",
    "        #bs_resize_bicubic,\n",
    "        #bs_resize_lanczos,\n",
    "        # ROTATE\n",
    "        #bs_rotate_nearest,\n",
    "        bs_rotate_linear,\n",
    "        #bs_rotate_bicubic,\n",
    "        # FLIP\n",
    "        bs_flip,\n",
    "        # NOISE\n",
    "        bs_blur,\n",
    "        bs_sharpen,\n",
    "        bs_saltpepper,\n",
    "        # COMPRESSION\n",
    "        bs_jpeg,\n",
    "        bs_jpeg2000,\n",
    "    ], [])"
   ]
  },
  {
   "cell_type": "code",
   "execution_count": 113,
   "id": "wooden-territory",
   "metadata": {},
   "outputs": [],
   "source": [
    "max_order = 50\n",
    "method = RadialHarmonicFourierMoment(max_order, W)\n",
    "Ls = [ 8*l for l in range(2+1) ]\n",
    "repetitions = 10"
   ]
  },
  {
   "cell_type": "code",
   "execution_count": 114,
   "id": "gentle-african",
   "metadata": {},
   "outputs": [
    {
     "name": "stdout",
     "output_type": "stream",
     "text": [
      "airplane_64\t0\t0\n",
      "arctichare_64\t8\t0\n",
      "airplane_64\t16\t0\n",
      "baboon_64\t0\t0\n",
      "airplane_64\t0\t1\n",
      "baboon_64\t0\t1\n",
      "arctichare_64\t8\t1\n",
      "airplane_64\t16\t1\n",
      "airplane_64\t8\t0\n",
      "baboon_64\t8\t0\n",
      "arctichare_64\t16\t0\n",
      "arctichare_64\t0\t0\n",
      "airplane_64\t8\t1\n",
      "baboon_64\t8\t1\n",
      "arctichare_64\t16\t1\n",
      "arctichare_64\t0\t1\n",
      "baboon_64\t16\t0\n",
      "barbara_64\t8\t0\n",
      "boat_64\t0\t0\n",
      "boat_64\t16\t0\n",
      "barbara_64\t8\t1\n",
      "baboon_64\t16\t1\n",
      "boat_64\t0\t1\n",
      "boat_64\t16\t1\n",
      "barbara_64\t16\t0\n",
      "boat_64\t8\t0\n",
      "barbara_64\t0\t0\n",
      "fruits_64\t0\t0\n",
      "boat_64\t8\t1\n",
      "barbara_64\t16\t1\n",
      "barbara_64\t0\t1\n",
      "fruits_64\t0\t1\n",
      "fruits_64\t8\t0\n",
      "lena_64\t0\t0\n",
      "lena_64\t16\t0\n",
      "monarch_64\t8\t0\n",
      "lena_64\t0\t1\n",
      "fruits_64\t8\t1\n",
      "lena_64\t16\t1\n",
      "monarch_64\t8\t1\n",
      "lena_64\t8\t0\n",
      "fruits_64\t16\t0\n",
      "monarch_64\t0\t0\n",
      "monarch_64\t16\t0\n",
      "lena_64\t8\t1\n",
      "fruits_64\t16\t1\n",
      "monarch_64\t0\t1\n",
      "monarch_64\t16\t1\n",
      "peppers_64\t0\t0\n",
      "peppers_64\t16\t0\n",
      "zelda_64\t8\t0\n",
      "peppers_64\t0\t1\n",
      "zelda_64\t8\t1\n",
      "peppers_64\t16\t1\n",
      "peppers_64\t8\t0\n",
      "zelda_64\t16\t0\n",
      "zelda_64\t0\t0\n",
      "peppers_64\t8\t1\n",
      "zelda_64\t16\t1\n",
      "zelda_64\t0\t1\n"
     ]
    }
   ],
   "source": [
    "df = run(method, images, Ls, repetitions, gen_bs, '../images/monochrome/')"
   ]
  },
  {
   "cell_type": "code",
   "execution_count": 115,
   "id": "acting-summit",
   "metadata": {},
   "outputs": [],
   "source": [
    "df.to_csv('RHFM.csv')"
   ]
  },
  {
   "cell_type": "code",
   "execution_count": null,
   "id": "individual-fifteen",
   "metadata": {},
   "outputs": [],
   "source": []
  }
 ],
 "metadata": {
  "kernelspec": {
   "display_name": "Python 3",
   "language": "python",
   "name": "python3"
  },
  "language_info": {
   "codemirror_mode": {
    "name": "ipython",
    "version": 3
   },
   "file_extension": ".py",
   "mimetype": "text/x-python",
   "name": "python",
   "nbconvert_exporter": "python",
   "pygments_lexer": "ipython3",
   "version": "3.8.5"
  }
 },
 "nbformat": 4,
 "nbformat_minor": 5
}
