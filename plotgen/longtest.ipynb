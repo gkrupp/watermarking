{
 "cells": [
  {
   "cell_type": "code",
   "execution_count": 1,
   "id": "legendary-glossary",
   "metadata": {},
   "outputs": [],
   "source": [
    "%config Completer.use_jedi = False\n",
    "%load_ext autoreload\n",
    "%autoreload 2"
   ]
  },
  {
   "cell_type": "code",
   "execution_count": 2,
   "id": "standing-extent",
   "metadata": {},
   "outputs": [],
   "source": [
    "import os, sys\n",
    "sys.path.append(os.path.abspath('..'))"
   ]
  },
  {
   "cell_type": "code",
   "execution_count": 3,
   "id": "nutritional-advance",
   "metadata": {},
   "outputs": [],
   "source": [
    "import numpy as np\n",
    "import pandas as pd\n",
    "from wm import Image as PolarImage\n",
    "from PIL import Image"
   ]
  },
  {
   "cell_type": "code",
   "execution_count": 4,
   "id": "inner-opening",
   "metadata": {},
   "outputs": [],
   "source": [
    "from wm.moments import RadialHarmonicFourierMoment\n",
    "from wm.moments import ZernikeMoment, PseudoZernikeMoment"
   ]
  },
  {
   "cell_type": "code",
   "execution_count": 5,
   "id": "ignored-avatar",
   "metadata": {},
   "outputs": [],
   "source": [
    "from functools import reduce\n",
    "from multiprocessing import Pool"
   ]
  },
  {
   "cell_type": "markdown",
   "id": "foster-paris",
   "metadata": {},
   "source": [
    "# benches"
   ]
  },
  {
   "cell_type": "code",
   "execution_count": 6,
   "id": "renewable-dover",
   "metadata": {},
   "outputs": [],
   "source": [
    "from wm.benchmarks.utils import run\n",
    "from wm.benchmarks.distortion import MSE, SNR, PSNR\n",
    "from wm.benchmarks.geometry import Resize, Rotate, Flip\n",
    "from wm.benchmarks.noise import Blur, Sharpen, SaltPapperNoise\n",
    "from wm.benchmarks.compression import JPEG, JPEG2000"
   ]
  },
  {
   "cell_type": "code",
   "execution_count": 7,
   "id": "civic-auction",
   "metadata": {},
   "outputs": [],
   "source": [
    "W = 256\n",
    "images = list(map(lambda name: name+'_'+str(W), [\n",
    "    'airplane',\n",
    "    'arctichare',\n",
    "    'baboon',\n",
    "    'barbara',\n",
    "    'boat',\n",
    "    'fruits',\n",
    "    'lena',\n",
    "    'monarch',\n",
    "    'peppers',\n",
    "    'zelda'\n",
    "]))"
   ]
  },
  {
   "cell_type": "code",
   "execution_count": 16,
   "id": "unsigned-insurance",
   "metadata": {},
   "outputs": [],
   "source": [
    "def gen_bs(method, data, pos, im):\n",
    "    # METRICS\n",
    "    bs_metrics = [\n",
    "        MSE(method, data, pos=pos, original=im),\n",
    "        SNR(method, data, pos=pos, original=im),\n",
    "        PSNR(method, data, pos=pos, original=im)\n",
    "    ]\n",
    "    # RESIZE\n",
    "    scales = [0.2, 0.3, 0.4, 0.5, 0.6, 0.7, 0.8, 0.9, 1.1, 1.5, 2, 3]\n",
    "    bs_resize_nearest = [ Resize(method, data, pos=pos, scale=s, resample=Image.NEAREST, name='Resize/Nearest/'+str(s)) for s in scales ]\n",
    "    bs_resize_linear  = [ Resize(method, data, pos=pos, scale=s, resample=Image.LINEAR,  name='Resize/Linear/'+str(s))  for s in scales ]\n",
    "    bs_resize_bicubic = [ Resize(method, data, pos=pos, scale=s, resample=Image.BICUBIC, name='Resize/Bicubic/'+str(s)) for s in scales ]\n",
    "    bs_resize_lanczos = [ Resize(method, data, pos=pos, scale=s, resample=Image.LANCZOS, name='Resize/Lanczos/'+str(s)) for s in scales ]\n",
    "    # ROTATE\n",
    "    angles = [1, 2, 3, 4, 5, 6, 7, 8, 9, 10, 15, 20, 25, 30, 35, 40, 45]\n",
    "    bs_rotate_nearest = [ Rotate(method, data, pos=pos, angle=a, resample=Image.NEAREST, name='Rotate/Nearest/'+str(a)) for a in angles ]\n",
    "    bs_rotate_linear  = [ Rotate(method, data, pos=pos, angle=a, resample=Image.LINEAR,  name='Rotate/Linear/'+str(a))  for a in angles ]\n",
    "    bs_rotate_bicubic = [ Rotate(method, data, pos=pos, angle=a, resample=Image.BICUBIC, name='Rotate/Bicubic/'+str(a)) for a in angles ]\n",
    "    # FLIP\n",
    "    #flips = [Image.FLIP_LEFT_RIGHT, Image.FLIP_TOP_BOTTOM]\n",
    "    #bs_flip = [ Flip(method, data, pos=pos, direction=d, name='Flip/'+str('UD' if d else 'LR')) for d in flips ]\n",
    "    # GAUSSBLUR\n",
    "    #blurs = [1, 2, 3, 4, 5]\n",
    "    #bs_blur = [ Blur(method, data, pos=pos, radius=r, name='Blur/'+str(r)) for r in blurs ]\n",
    "    # SHARPEN\n",
    "    #sharpens = [5, 10, 20, 30, 40, 50, 100]\n",
    "    #bs_sharpen = [ Sharpen(method, data, pos=pos, radius=3, percent=s, name='Sharpen/'+str(s)) for s in sharpens ]\n",
    "    # SALTPEPPER\n",
    "    #sps = [0.01, 0.02, 0.05, 0.1, 0.15, 0.2]\n",
    "    #bs_saltpepper = [ SaltPapperNoise(method, data, pos=pos, amount=a, name='SaltPepper/'+str(a)) for a in sps ]\n",
    "    # JPEG\n",
    "    qualities = [100, 90, 80, 70, 60, 50, 40, 30, 20, 10]\n",
    "    bs_jpeg = [ JPEG(method, data, pos=pos, quality=q, name='JPEG/'+str(q)) for q in qualities ]\n",
    "    bs_jpeg2000 = [ JPEG2000(method, data, pos=pos, name='JPEG2000') ]\n",
    "    ###\n",
    "    ###\n",
    "    return reduce(lambda a,b: a+b, [\n",
    "        bs_metrics,\n",
    "        # RESIZE\n",
    "        #bs_resize_nearest,\n",
    "        #bs_resize_linear,\n",
    "        #bs_resize_bicubic,\n",
    "        #bs_resize_lanczos,\n",
    "        # ROTATE\n",
    "        #bs_rotate_nearest,\n",
    "        #bs_rotate_linear,\n",
    "        #bs_rotate_bicubic,\n",
    "        # FLIP\n",
    "        #bs_flip,\n",
    "        # NOISE\n",
    "        #bs_blur,\n",
    "        #bs_sharpen,\n",
    "        #bs_saltpepper,\n",
    "        # COMPRESSION\n",
    "        #bs_jpeg,\n",
    "        #bs_jpeg2000,\n",
    "    ], [])"
   ]
  },
  {
   "cell_type": "code",
   "execution_count": 17,
   "id": "integral-folks",
   "metadata": {},
   "outputs": [],
   "source": [
    "max_order = 50\n",
    "method = RadialHarmonicFourierMoment(max_order, W, Vfile='../V_RHFM_256.h5')\n",
    "Ls = [ 8*l for l in range(32+1) ]\n",
    "repetitions = 10"
   ]
  },
  {
   "cell_type": "code",
   "execution_count": 18,
   "id": "middle-library",
   "metadata": {},
   "outputs": [
    {
     "name": "stdout",
     "output_type": "stream",
     "text": [
      "airplane_256\t0\t0\n"
     ]
    },
    {
     "name": "stderr",
     "output_type": "stream",
     "text": [
      "/mnt/c/Users/gkrupp/Desktop/M/watermarking/wm/metrics/noise.py:10: RuntimeWarning: divide by zero encountered in double_scalars\n",
      "  return 1/(w*h) * np.sum(X**2) / MSE(X, Y)\n",
      "/mnt/c/Users/gkrupp/Desktop/M/watermarking/wm/metrics/noise.py:15: RuntimeWarning: divide by zero encountered in double_scalars\n",
      "  return 20 * np.log10(X_max/np.sqrt(MSE(X, Y)))\n"
     ]
    },
    {
     "name": "stdout",
     "output_type": "stream",
     "text": [
      "airplane_256\t0\t1\n",
      "airplane_256\t0\t2\n",
      "airplane_256\t0\t3\n",
      "airplane_256\t0\t4\n",
      "airplane_256\t0\t5\n",
      "airplane_256\t0\t6\n",
      "airplane_256\t0\t7\n",
      "airplane_256\t0\t8\n",
      "airplane_256\t0\t9\n",
      "airplane_256\t8\t0\n",
      "airplane_256\t8\t1\n",
      "airplane_256\t8\t2\n",
      "airplane_256\t8\t3\n",
      "airplane_256\t8\t4\n",
      "airplane_256\t8\t5\n",
      "airplane_256\t8\t6\n",
      "airplane_256\t8\t7\n",
      "airplane_256\t8\t8\n",
      "airplane_256\t8\t9\n",
      "airplane_256\t16\t0\n",
      "airplane_256\t16\t1\n",
      "airplane_256\t16\t2\n",
      "airplane_256\t16\t3\n",
      "airplane_256\t16\t4\n",
      "airplane_256\t16\t5\n",
      "airplane_256\t16\t6\n",
      "airplane_256\t16\t7\n",
      "airplane_256\t16\t8\n",
      "airplane_256\t16\t9\n",
      "airplane_256\t24\t0\n",
      "airplane_256\t24\t1\n",
      "airplane_256\t24\t2\n",
      "airplane_256\t24\t3\n",
      "airplane_256\t24\t4\n",
      "airplane_256\t24\t5\n",
      "airplane_256\t24\t6\n",
      "airplane_256\t24\t7\n",
      "airplane_256\t24\t8\n",
      "airplane_256\t24\t9\n",
      "airplane_256\t32\t0\n",
      "airplane_256\t32\t1\n",
      "airplane_256\t32\t2\n",
      "airplane_256\t32\t3\n",
      "airplane_256\t32\t4\n",
      "airplane_256\t32\t5\n",
      "airplane_256\t32\t6\n",
      "airplane_256\t32\t7\n",
      "airplane_256\t32\t8\n",
      "airplane_256\t32\t9\n",
      "airplane_256\t40\t0\n",
      "airplane_256\t40\t1\n",
      "airplane_256\t40\t2\n",
      "airplane_256\t40\t3\n",
      "airplane_256\t40\t4\n",
      "airplane_256\t40\t5\n",
      "airplane_256\t40\t6\n",
      "airplane_256\t40\t7\n",
      "airplane_256\t40\t8\n",
      "airplane_256\t40\t9\n",
      "airplane_256\t48\t0\n",
      "airplane_256\t48\t1\n",
      "airplane_256\t48\t2\n",
      "airplane_256\t48\t3\n",
      "airplane_256\t48\t4\n",
      "airplane_256\t48\t5\n",
      "airplane_256\t48\t6\n",
      "airplane_256\t48\t7\n",
      "airplane_256\t48\t8\n",
      "airplane_256\t48\t9\n",
      "airplane_256\t56\t0\n",
      "airplane_256\t56\t1\n",
      "airplane_256\t56\t2\n",
      "airplane_256\t56\t3\n",
      "airplane_256\t56\t4\n",
      "airplane_256\t56\t5\n",
      "airplane_256\t56\t6\n",
      "airplane_256\t56\t7\n",
      "airplane_256\t56\t8\n",
      "airplane_256\t56\t9\n",
      "airplane_256\t64\t0\n",
      "airplane_256\t64\t1\n",
      "airplane_256\t64\t2\n",
      "airplane_256\t64\t3\n",
      "airplane_256\t64\t4\n",
      "airplane_256\t64\t5\n",
      "airplane_256\t64\t6\n",
      "airplane_256\t64\t7\n",
      "airplane_256\t64\t8\n",
      "airplane_256\t64\t9\n",
      "airplane_256\t72\t0\n",
      "airplane_256\t72\t1\n",
      "airplane_256\t72\t2\n",
      "airplane_256\t72\t3\n",
      "airplane_256\t72\t4\n",
      "airplane_256\t72\t5\n",
      "airplane_256\t72\t6\n",
      "airplane_256\t72\t7\n",
      "airplane_256\t72\t8\n",
      "airplane_256\t72\t9\n",
      "airplane_256\t80\t0\n",
      "airplane_256\t80\t1\n",
      "airplane_256\t80\t2\n",
      "airplane_256\t80\t3\n",
      "airplane_256\t80\t4\n",
      "airplane_256\t80\t5\n",
      "airplane_256\t80\t6\n",
      "airplane_256\t80\t7\n",
      "airplane_256\t80\t8\n",
      "airplane_256\t80\t9\n",
      "airplane_256\t88\t0\n",
      "airplane_256\t88\t1\n"
     ]
    },
    {
     "ename": "KeyboardInterrupt",
     "evalue": "",
     "output_type": "error",
     "traceback": [
      "\u001b[0;31m---------------------------------------------------------------------------\u001b[0m",
      "\u001b[0;31mKeyboardInterrupt\u001b[0m                         Traceback (most recent call last)",
      "\u001b[0;32m<ipython-input-18-a4f184e7140d>\u001b[0m in \u001b[0;36m<module>\u001b[0;34m\u001b[0m\n\u001b[0;32m----> 1\u001b[0;31m \u001b[0mdf\u001b[0m \u001b[0;34m=\u001b[0m \u001b[0mrun\u001b[0m\u001b[0;34m(\u001b[0m\u001b[0mmethod\u001b[0m\u001b[0;34m,\u001b[0m \u001b[0mimages\u001b[0m\u001b[0;34m,\u001b[0m \u001b[0mLs\u001b[0m\u001b[0;34m,\u001b[0m \u001b[0mrepetitions\u001b[0m\u001b[0;34m,\u001b[0m \u001b[0mgen_bs\u001b[0m\u001b[0;34m,\u001b[0m \u001b[0;34m'../images/monochrome/'\u001b[0m\u001b[0;34m,\u001b[0m \u001b[0mmultiproc\u001b[0m\u001b[0;34m=\u001b[0m\u001b[0;32mFalse\u001b[0m\u001b[0;34m)\u001b[0m\u001b[0;34m\u001b[0m\u001b[0;34m\u001b[0m\u001b[0m\n\u001b[0m",
      "\u001b[0;32m/mnt/c/Users/gkrupp/Desktop/M/watermarking/wm/benchmarks/utils.py\u001b[0m in \u001b[0;36mrun\u001b[0;34m(method, images, Ls, repetitions, gen_bs, imDir, multiproc)\u001b[0m\n\u001b[1;32m     62\u001b[0m                 )\n\u001b[1;32m     63\u001b[0m     \u001b[0;32mif\u001b[0m \u001b[0mmultiproc\u001b[0m\u001b[0;34m:\u001b[0m\u001b[0;34m\u001b[0m\u001b[0;34m\u001b[0m\u001b[0m\n\u001b[0;32m---> 64\u001b[0;31m         \u001b[0;32mwith\u001b[0m \u001b[0mPool\u001b[0m\u001b[0;34m(\u001b[0m\u001b[0mcpu_count\u001b[0m\u001b[0;34m(\u001b[0m\u001b[0;34m)\u001b[0m\u001b[0;34m)\u001b[0m \u001b[0;32mas\u001b[0m \u001b[0mp\u001b[0m\u001b[0;34m:\u001b[0m\u001b[0;34m\u001b[0m\u001b[0;34m\u001b[0m\u001b[0m\n\u001b[0m\u001b[1;32m     65\u001b[0m             \u001b[0mres\u001b[0m \u001b[0;34m=\u001b[0m \u001b[0mp\u001b[0m\u001b[0;34m.\u001b[0m\u001b[0mstarmap\u001b[0m\u001b[0;34m(\u001b[0m\u001b[0mexecute_bs\u001b[0m\u001b[0;34m,\u001b[0m \u001b[0mcalls\u001b[0m\u001b[0;34m,\u001b[0m \u001b[0mchunksize\u001b[0m\u001b[0;34m=\u001b[0m\u001b[0;36m1\u001b[0m\u001b[0;34m)\u001b[0m\u001b[0;34m\u001b[0m\u001b[0;34m\u001b[0m\u001b[0m\n\u001b[1;32m     66\u001b[0m     \u001b[0;32melse\u001b[0m\u001b[0;34m:\u001b[0m\u001b[0;34m\u001b[0m\u001b[0;34m\u001b[0m\u001b[0m\n",
      "\u001b[0;32m/mnt/c/Users/gkrupp/Desktop/M/watermarking/wm/benchmarks/utils.py\u001b[0m in \u001b[0;36m<listcomp>\u001b[0;34m(.0)\u001b[0m\n\u001b[1;32m     62\u001b[0m                 )\n\u001b[1;32m     63\u001b[0m     \u001b[0;32mif\u001b[0m \u001b[0mmultiproc\u001b[0m\u001b[0;34m:\u001b[0m\u001b[0;34m\u001b[0m\u001b[0;34m\u001b[0m\u001b[0m\n\u001b[0;32m---> 64\u001b[0;31m         \u001b[0;32mwith\u001b[0m \u001b[0mPool\u001b[0m\u001b[0;34m(\u001b[0m\u001b[0mcpu_count\u001b[0m\u001b[0;34m(\u001b[0m\u001b[0;34m)\u001b[0m\u001b[0;34m)\u001b[0m \u001b[0;32mas\u001b[0m \u001b[0mp\u001b[0m\u001b[0;34m:\u001b[0m\u001b[0;34m\u001b[0m\u001b[0;34m\u001b[0m\u001b[0m\n\u001b[0m\u001b[1;32m     65\u001b[0m             \u001b[0mres\u001b[0m \u001b[0;34m=\u001b[0m \u001b[0mp\u001b[0m\u001b[0;34m.\u001b[0m\u001b[0mstarmap\u001b[0m\u001b[0;34m(\u001b[0m\u001b[0mexecute_bs\u001b[0m\u001b[0;34m,\u001b[0m \u001b[0mcalls\u001b[0m\u001b[0;34m,\u001b[0m \u001b[0mchunksize\u001b[0m\u001b[0;34m=\u001b[0m\u001b[0;36m1\u001b[0m\u001b[0;34m)\u001b[0m\u001b[0;34m\u001b[0m\u001b[0;34m\u001b[0m\u001b[0m\n\u001b[1;32m     66\u001b[0m     \u001b[0;32melse\u001b[0m\u001b[0;34m:\u001b[0m\u001b[0;34m\u001b[0m\u001b[0;34m\u001b[0m\u001b[0m\n",
      "\u001b[0;32m/mnt/c/Users/gkrupp/Desktop/M/watermarking/wm/benchmarks/utils.py\u001b[0m in \u001b[0;36mexecute_bs\u001b[0;34m(imName, imPath, method, L, data, pos, bs_, k)\u001b[0m\n\u001b[1;32m     36\u001b[0m             \u001b[0;34m'L'\u001b[0m\u001b[0;34m:\u001b[0m \u001b[0mL\u001b[0m\u001b[0;34m,\u001b[0m\u001b[0;34m\u001b[0m\u001b[0;34m\u001b[0m\u001b[0m\n\u001b[1;32m     37\u001b[0m             \u001b[0;34m'k'\u001b[0m\u001b[0;34m:\u001b[0m \u001b[0mk\u001b[0m\u001b[0;34m\u001b[0m\u001b[0;34m\u001b[0m\u001b[0m\n\u001b[0;32m---> 38\u001b[0;31m         }\n\u001b[0m\u001b[1;32m     39\u001b[0m         \u001b[0mpim\u001b[0m \u001b[0;34m=\u001b[0m \u001b[0mPolarImage\u001b[0m\u001b[0;34m(\u001b[0m\u001b[0mimPath\u001b[0m\u001b[0;34m,\u001b[0m \u001b[0mcolored\u001b[0m\u001b[0;34m=\u001b[0m\u001b[0;32mFalse\u001b[0m\u001b[0;34m)\u001b[0m\u001b[0;34m\u001b[0m\u001b[0;34m\u001b[0m\u001b[0m\n\u001b[1;32m     40\u001b[0m         \u001b[0mim\u001b[0m \u001b[0;34m=\u001b[0m \u001b[0mImage\u001b[0m\u001b[0;34m.\u001b[0m\u001b[0mfromarray\u001b[0m\u001b[0;34m(\u001b[0m\u001b[0mpim\u001b[0m\u001b[0;34m.\u001b[0m\u001b[0mim\u001b[0m\u001b[0;34m)\u001b[0m\u001b[0;34m\u001b[0m\u001b[0;34m\u001b[0m\u001b[0m\n",
      "\u001b[0;32m/mnt/c/Users/gkrupp/Desktop/M/watermarking/wm/moments/_RadialMoment.py\u001b[0m in \u001b[0;36mencode\u001b[0;34m(self, f_o, w, pos, selective, verbose)\u001b[0m\n\u001b[1;32m    111\u001b[0m \u001b[0;34m\u001b[0m\u001b[0m\n\u001b[1;32m    112\u001b[0m         \u001b[0;31m# Reconstruction with modified moments\u001b[0m\u001b[0;34m\u001b[0m\u001b[0;34m\u001b[0m\u001b[0;34m\u001b[0m\u001b[0m\n\u001b[0;32m--> 113\u001b[0;31m         \u001b[0mE\u001b[0m \u001b[0;34m=\u001b[0m \u001b[0mself\u001b[0m\u001b[0;34m.\u001b[0m\u001b[0mreconstruct\u001b[0m\u001b[0;34m(\u001b[0m\u001b[0mF\u001b[0m\u001b[0;34m,\u001b[0m \u001b[0mf_o\u001b[0m\u001b[0;34m.\u001b[0m\u001b[0mwidth\u001b[0m\u001b[0;34m,\u001b[0m \u001b[0mf_o\u001b[0m\u001b[0;34m.\u001b[0m\u001b[0mheight\u001b[0m\u001b[0;34m,\u001b[0m \u001b[0mselective\u001b[0m\u001b[0;34m=\u001b[0m\u001b[0mselective\u001b[0m\u001b[0;34m,\u001b[0m \u001b[0mverbose\u001b[0m\u001b[0;34m=\u001b[0m\u001b[0mverbose\u001b[0m\u001b[0;34m)\u001b[0m\u001b[0;34m.\u001b[0m\u001b[0mim\u001b[0m\u001b[0;34m\u001b[0m\u001b[0;34m\u001b[0m\u001b[0m\n\u001b[0m\u001b[1;32m    114\u001b[0m \u001b[0;34m\u001b[0m\u001b[0m\n\u001b[1;32m    115\u001b[0m         \u001b[0;31m# Image combination\u001b[0m\u001b[0;34m\u001b[0m\u001b[0;34m\u001b[0m\u001b[0;34m\u001b[0m\u001b[0m\n",
      "\u001b[0;32m/mnt/c/Users/gkrupp/Desktop/M/watermarking/wm/moments/_RadialMoment.py\u001b[0m in \u001b[0;36mreconstruct\u001b[0;34m(self, F, width, height, selective, verbose)\u001b[0m\n\u001b[1;32m     74\u001b[0m             \u001b[0;32mif\u001b[0m \u001b[0mverbose\u001b[0m\u001b[0;34m:\u001b[0m \u001b[0mprint\u001b[0m\u001b[0;34m(\u001b[0m\u001b[0mstr\u001b[0m\u001b[0;34m(\u001b[0m\u001b[0;34m(\u001b[0m\u001b[0mu\u001b[0m\u001b[0;34m+\u001b[0m\u001b[0;36m1\u001b[0m\u001b[0;34m)\u001b[0m\u001b[0;34m*\u001b[0m\u001b[0mwidth\u001b[0m\u001b[0;34m)\u001b[0m\u001b[0;34m+\u001b[0m\u001b[0;34m'/'\u001b[0m\u001b[0;34m+\u001b[0m\u001b[0mstr\u001b[0m\u001b[0;34m(\u001b[0m\u001b[0mwidth\u001b[0m\u001b[0;34m*\u001b[0m\u001b[0mheight\u001b[0m\u001b[0;34m)\u001b[0m\u001b[0;34m+\u001b[0m\u001b[0;34m' '\u001b[0m\u001b[0;34m*\u001b[0m\u001b[0;36m32\u001b[0m\u001b[0;34m,\u001b[0m \u001b[0mend\u001b[0m\u001b[0;34m=\u001b[0m\u001b[0;34m'\\r'\u001b[0m\u001b[0;34m)\u001b[0m\u001b[0;34m\u001b[0m\u001b[0;34m\u001b[0m\u001b[0m\n\u001b[1;32m     75\u001b[0m             \u001b[0;32mfor\u001b[0m \u001b[0mv\u001b[0m \u001b[0;32min\u001b[0m \u001b[0mrange\u001b[0m\u001b[0;34m(\u001b[0m\u001b[0mheight\u001b[0m\u001b[0;34m)\u001b[0m\u001b[0;34m:\u001b[0m\u001b[0;34m\u001b[0m\u001b[0;34m\u001b[0m\u001b[0m\n\u001b[0;32m---> 76\u001b[0;31m                 \u001b[0mI\u001b[0m\u001b[0;34m.\u001b[0m\u001b[0mim\u001b[0m\u001b[0;34m[\u001b[0m\u001b[0mu\u001b[0m\u001b[0;34m,\u001b[0m\u001b[0mv\u001b[0m\u001b[0;34m]\u001b[0m \u001b[0;34m=\u001b[0m \u001b[0mself\u001b[0m\u001b[0;34m.\u001b[0m\u001b[0mreconstruct_px\u001b[0m\u001b[0;34m(\u001b[0m\u001b[0mF\u001b[0m\u001b[0;34m,\u001b[0m \u001b[0mu\u001b[0m\u001b[0;34m,\u001b[0m \u001b[0mv\u001b[0m\u001b[0;34m,\u001b[0m \u001b[0mwidth\u001b[0m\u001b[0;34m,\u001b[0m \u001b[0mheight\u001b[0m\u001b[0;34m,\u001b[0m \u001b[0mselective\u001b[0m\u001b[0;34m=\u001b[0m\u001b[0mselective\u001b[0m\u001b[0;34m)\u001b[0m\u001b[0;34m\u001b[0m\u001b[0;34m\u001b[0m\u001b[0m\n\u001b[0m\u001b[1;32m     77\u001b[0m         \u001b[0;32mreturn\u001b[0m \u001b[0mImage\u001b[0m\u001b[0;34m(\u001b[0m\u001b[0mI\u001b[0m\u001b[0;34m.\u001b[0m\u001b[0mim\u001b[0m\u001b[0;34m,\u001b[0m \u001b[0mcolored\u001b[0m\u001b[0;34m=\u001b[0m\u001b[0;32mFalse\u001b[0m\u001b[0;34m)\u001b[0m\u001b[0;34m\u001b[0m\u001b[0;34m\u001b[0m\u001b[0m\n\u001b[1;32m     78\u001b[0m \u001b[0;34m\u001b[0m\u001b[0m\n",
      "\u001b[0;32m/mnt/c/Users/gkrupp/Desktop/M/watermarking/wm/moments/_RadialMoment.py\u001b[0m in \u001b[0;36mreconstruct_px\u001b[0;34m(self, F, u, v, width, height, selective, verbose)\u001b[0m\n\u001b[1;32m     49\u001b[0m                 \u001b[0;32mif\u001b[0m \u001b[0mself\u001b[0m\u001b[0;34m.\u001b[0m\u001b[0mVmx\u001b[0m \u001b[0;32mis\u001b[0m \u001b[0;32mnot\u001b[0m \u001b[0;32mNone\u001b[0m\u001b[0;34m:\u001b[0m\u001b[0;34m\u001b[0m\u001b[0;34m\u001b[0m\u001b[0m\n\u001b[1;32m     50\u001b[0m                     \u001b[0mx_nm\u001b[0m \u001b[0;34m=\u001b[0m \u001b[0mF_nm\u001b[0m \u001b[0;34m*\u001b[0m \u001b[0mself\u001b[0m\u001b[0;34m.\u001b[0m\u001b[0mVmx\u001b[0m\u001b[0;34m[\u001b[0m\u001b[0mn\u001b[0m\u001b[0;34m,\u001b[0m\u001b[0mm\u001b[0m\u001b[0;34m,\u001b[0m\u001b[0mu\u001b[0m\u001b[0;34m,\u001b[0m\u001b[0mv\u001b[0m\u001b[0;34m]\u001b[0m\u001b[0;34m\u001b[0m\u001b[0;34m\u001b[0m\u001b[0m\n\u001b[0;32m---> 51\u001b[0;31m                     \u001b[0;32mif\u001b[0m \u001b[0mm\u001b[0m\u001b[0;34m:\u001b[0m \u001b[0mx_nm\u001b[0m \u001b[0;34m=\u001b[0m \u001b[0;36m2\u001b[0m\u001b[0;34m*\u001b[0m\u001b[0mnp\u001b[0m\u001b[0;34m.\u001b[0m\u001b[0mreal\u001b[0m\u001b[0;34m(\u001b[0m\u001b[0mx_nm\u001b[0m\u001b[0;34m)\u001b[0m\u001b[0;34m\u001b[0m\u001b[0;34m\u001b[0m\u001b[0m\n\u001b[0m\u001b[1;32m     52\u001b[0m                     \u001b[0mx\u001b[0m \u001b[0;34m+=\u001b[0m \u001b[0mx_nm\u001b[0m\u001b[0;34m\u001b[0m\u001b[0;34m\u001b[0m\u001b[0m\n\u001b[1;32m     53\u001b[0m                 \u001b[0;32melse\u001b[0m\u001b[0;34m:\u001b[0m\u001b[0;34m\u001b[0m\u001b[0;34m\u001b[0m\u001b[0m\n",
      "\u001b[0;32m<__array_function__ internals>\u001b[0m in \u001b[0;36mreal\u001b[0;34m(*args, **kwargs)\u001b[0m\n",
      "\u001b[0;32m~/.local/lib/python3.8/site-packages/numpy/lib/type_check.py\u001b[0m in \u001b[0;36mreal\u001b[0;34m(val)\u001b[0m\n\u001b[1;32m    155\u001b[0m \u001b[0;34m\u001b[0m\u001b[0m\n\u001b[1;32m    156\u001b[0m     \"\"\"\n\u001b[0;32m--> 157\u001b[0;31m     \u001b[0;32mtry\u001b[0m\u001b[0;34m:\u001b[0m\u001b[0;34m\u001b[0m\u001b[0;34m\u001b[0m\u001b[0m\n\u001b[0m\u001b[1;32m    158\u001b[0m         \u001b[0;32mreturn\u001b[0m \u001b[0mval\u001b[0m\u001b[0;34m.\u001b[0m\u001b[0mreal\u001b[0m\u001b[0;34m\u001b[0m\u001b[0;34m\u001b[0m\u001b[0m\n\u001b[1;32m    159\u001b[0m     \u001b[0;32mexcept\u001b[0m \u001b[0mAttributeError\u001b[0m\u001b[0;34m:\u001b[0m\u001b[0;34m\u001b[0m\u001b[0;34m\u001b[0m\u001b[0m\n",
      "\u001b[0;31mKeyboardInterrupt\u001b[0m: "
     ]
    }
   ],
   "source": [
    "df = run(method, images, Ls, repetitions, gen_bs, '../images/monochrome/', multiproc=False)"
   ]
  },
  {
   "cell_type": "code",
   "execution_count": null,
   "id": "selective-intent",
   "metadata": {},
   "outputs": [],
   "source": [
    "df.to_csv('RHFM.csv')"
   ]
  },
  {
   "cell_type": "code",
   "execution_count": null,
   "id": "spare-twist",
   "metadata": {},
   "outputs": [],
   "source": []
  }
 ],
 "metadata": {
  "kernelspec": {
   "display_name": "Python 3",
   "language": "python",
   "name": "python3"
  },
  "language_info": {
   "codemirror_mode": {
    "name": "ipython",
    "version": 3
   },
   "file_extension": ".py",
   "mimetype": "text/x-python",
   "name": "python",
   "nbconvert_exporter": "python",
   "pygments_lexer": "ipython3",
   "version": "3.8.5"
  }
 },
 "nbformat": 4,
 "nbformat_minor": 5
}
