{
 "cells": [
  {
   "cell_type": "code",
   "execution_count": 2,
   "id": "refined-habitat",
   "metadata": {},
   "outputs": [],
   "source": [
    "%config Completer.use_jedi = False\n",
    "%load_ext autoreload\n",
    "%autoreload 2"
   ]
  },
  {
   "cell_type": "code",
   "execution_count": 3,
   "id": "major-saver",
   "metadata": {},
   "outputs": [],
   "source": [
    "import h5py\n",
    "import numpy as np"
   ]
  },
  {
   "cell_type": "code",
   "execution_count": 4,
   "id": "arctic-guide",
   "metadata": {},
   "outputs": [],
   "source": [
    "from wm.moments import RadialHarmonicFourierMoment\n",
    "from wm.moments import ZernikeMoment, PseudoZernikeMoment"
   ]
  },
  {
   "cell_type": "code",
   "execution_count": 5,
   "id": "pacific-possession",
   "metadata": {},
   "outputs": [],
   "source": [
    "def gen_weights(method, N, M, max_n, max_m):\n",
    "    V = np.zeros((max_n+1,max_m+1,N,M), dtype=complex)\n",
    "    for u in range(N):\n",
    "        print(str((u+1)*N)+'/'+str(N*M)+' '*32, end='\\r')\n",
    "        for v in range(M):\n",
    "            r, fi = method.pos_to_polar(u, v)\n",
    "            for n in range(max_n+1):\n",
    "                for m in range(max_m+1):\n",
    "                    V[n,m,u,v] = method.V(n, m, r, fi)\n",
    "    with h5py.File('V_'+method.name+'_'+str(N)+'.h5', 'w') as hf:\n",
    "        hf.create_dataset('V',  data=V)"
   ]
  },
  {
   "cell_type": "code",
   "execution_count": 7,
   "id": "honest-fortune",
   "metadata": {},
   "outputs": [
    {
     "name": "stdout",
     "output_type": "stream",
     "text": [
      "CPU times: user 1min 47s, sys: 240 ms, total: 1min 47s\n",
      "Wall time: 1min 48s\n"
     ]
    }
   ],
   "source": [
    "%%time\n",
    "N = 64\n",
    "max_n = 50\n",
    "moment = RadialHarmonicFourierMoment(max_n, N)\n",
    "gen_weights(moment, N, N, max_n, max_n)"
   ]
  },
  {
   "cell_type": "code",
   "execution_count": null,
   "id": "soviet-tolerance",
   "metadata": {},
   "outputs": [],
   "source": []
  }
 ],
 "metadata": {
  "kernelspec": {
   "display_name": "Python 3",
   "language": "python",
   "name": "python3"
  },
  "language_info": {
   "codemirror_mode": {
    "name": "ipython",
    "version": 3
   },
   "file_extension": ".py",
   "mimetype": "text/x-python",
   "name": "python",
   "nbconvert_exporter": "python",
   "pygments_lexer": "ipython3",
   "version": "3.8.5"
  }
 },
 "nbformat": 4,
 "nbformat_minor": 5
}
