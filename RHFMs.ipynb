{
 "cells": [
  {
   "cell_type": "code",
   "execution_count": 1,
   "metadata": {},
   "outputs": [],
   "source": [
    "%config Completer.use_jedi = False\n",
    "%load_ext autoreload\n",
    "%autoreload 2"
   ]
  },
  {
   "cell_type": "code",
   "execution_count": 2,
   "metadata": {},
   "outputs": [],
   "source": [
    "import numpy as np"
   ]
  },
  {
   "cell_type": "code",
   "execution_count": 191,
   "metadata": {},
   "outputs": [],
   "source": [
    "from wm import Image as Image\n",
    "from wm.moments import Moment2D\n",
    "#from wm.moments import LegendreMoment\n",
    "#from wm.moments import RadialHarmonicFourierMoment\n",
    "from wm.moments import ZernikeMoment"
   ]
  },
  {
   "cell_type": "code",
   "execution_count": 169,
   "metadata": {},
   "outputs": [],
   "source": [
    "from scipy import integrate\n",
    "\n",
    "class ZernikeMoment(Moment2D):\n",
    "    \n",
    "    def __init__(self, n_max, N=None, **kwargs):\n",
    "        super().__init__(n_max, N or n_max, **kwargs)\n",
    "        #\n",
    "        self.pseudo = kwargs.get('pseudo', False)\n",
    "        self.qs = kwargs.get('qs', 1.2)  # quantization step\n",
    "        self.encode_dir = kwargs.get('encode_dir', 'row')\n",
    "        self.encode_K = kwargs.get('encode_K', self.m_max)\n",
    "    \n",
    "    def __call__(self, f_o, n=None, m=None, verbose=False):\n",
    "        if n is not None and m is not None:\n",
    "            if not self._correct_nm(n, m):\n",
    "                return 0\n",
    "            A_norm = (n+1) / self.pi\n",
    "            A = 0\n",
    "            for u in range(self.N):\n",
    "                for v in range(self.M):\n",
    "                    r, fi = f_o.pos_to_polar(u, v)\n",
    "                    if r > 1:\n",
    "                        continue\n",
    "                    A += f_o(r, fi) * self.h(n, m, r, fi)\n",
    "            return A_norm * A\n",
    "        else:\n",
    "            A = self.momentum_mx((self.n_max, 2*self.m_max+1))\n",
    "            for n in range(self.n_max):\n",
    "                if verbose: print(''.join([str(n),'/',str(self.n_max)])+' '*32, end='\\r')\n",
    "                for m in range(-self.m_max, self.m_max+1):\n",
    "                    A[n,m] = self(f_o, n, m)\n",
    "            return A\n",
    "    \n",
    "    def h(self, n, m, r, fi):\n",
    "        du = 2 / self.N\n",
    "        dv = 2 / self.M\n",
    "        return self.conj(self.V(n, m, r, fi)) * du * dv\n",
    "        #return integrate.dblquad(\n",
    "        #    lambda x, y, n=n,m=m: self.conj(self.V(n, m, x, y)),\n",
    "        #    x_u-du/2, x_u+du/2,\n",
    "        #    y_v-dv/2, y_v+dv/2\n",
    "        #)\n",
    "    \n",
    "    def R_ZM(self, n, m, r):\n",
    "        res = 0\n",
    "        m_abs = self.abs(m)\n",
    "        for s in range((n-m_abs)//2+1):\n",
    "            d0 = self.factorial(s)\n",
    "            d1 = self.factorial((n+m_abs)//2-s)\n",
    "            d2 = self.factorial((n-m_abs)//2-s)\n",
    "            denom = d0 * d1 * d2\n",
    "            res += ((-1.)**s) * self.factorial(n-s) * (r**(n-2*s)) / denom\n",
    "        return res\n",
    "    \n",
    "    def R_PZM(self, n, m, r):\n",
    "        res = 0\n",
    "        m_abs = self.abs(m)\n",
    "        for s in range(n-m_abs+1):\n",
    "            d0 = self.factorial(s)\n",
    "            d1 = self.factorial(n+m_abs+1-s)\n",
    "            d2 = self.factorial(n-m_abs-s)\n",
    "            denom = d0 * d1 * d2\n",
    "            res += ((-1.)**s) * self.factorial(2*n+1-s) * (r**(n-s)) / denom\n",
    "        return res\n",
    "    \n",
    "    def R(self, n, m, r):\n",
    "        if not self._correct_nm(n, m):\n",
    "            return 0\n",
    "        if not self.pseudo:\n",
    "            return self.R_ZM(n, m, r)\n",
    "        else:\n",
    "            return self.R_PZM(n, m, r)\n",
    "    \n",
    "    def V(self, n, m, r, fi):\n",
    "        return self.R(n, m, r) * self.exp(self.i*m*fi)\n",
    "    \n",
    "    def _correct_nm(self, n, m):\n",
    "        m_abs = self.abs(m)\n",
    "        return (m_abs <= n) and (self.pseudo or (n-m_abs) % 2 == 0)\n",
    "    \n",
    "    def moment_from_encode_pos(self, p):\n",
    "        K = self.encode_K\n",
    "        if self.encode_dir == 'row':\n",
    "            s = -1\n",
    "            for n in range(self.n_max):\n",
    "                for m in range(n+1):\n",
    "                    if self._correct_nm(n, m) and m % 4 != 0:\n",
    "                        s += 1\n",
    "                        if s == p:\n",
    "                            return (n, m)\n",
    "        elif self.encode_dir == 'diagonal':\n",
    "            s = -1\n",
    "            for d in range(2,2*min(self.n_max,self.m_max),2):\n",
    "                for e in range(d//2, d+1):\n",
    "                    (n, m) = (e, d-e)\n",
    "                    if self._correct_nm(n, m) and m % 4 != 0:\n",
    "                        s += 1\n",
    "                        if s == p:\n",
    "                            return (n, m)\n",
    "        else:\n",
    "            return None\n",
    "    \n",
    "    def moments_from_encode_poss(self, pos):\n",
    "        pos_nm = []\n",
    "        if isinstance(pos, int):\n",
    "            pos = list(range(pos))\n",
    "        for p in pos:\n",
    "            if isinstance(p, tuple):\n",
    "                pos_nm.append(p)\n",
    "            else:\n",
    "                pos_nm.append(self.moment_from_encode_pos(p))\n",
    "        return pos_nm\n",
    "    \n",
    "    def reconstruct(self, A, width, height=None, verbose=False):\n",
    "        height = height or width\n",
    "        colored = False\n",
    "        I = Image(np.zeros((width,height), dtype=np.uint8), colored=colored)\n",
    "        for u in range(width):\n",
    "            if verbose: print(''.join([str(u*height),'/',str(width*height)])+' '*32, end='\\r')\n",
    "            for v in range(height):\n",
    "                r, fi = I.pos_to_polar(u, v)\n",
    "                if r > 1: continue\n",
    "                a = 0\n",
    "                for n in range(self.n_max):\n",
    "                    for m in range(-self.m_max, self.m_max+1):\n",
    "                        a += A[n,m] * self.V(n, m, r, fi)\n",
    "                I.im[u,v] = self.pxtype(a)\n",
    "        return Image(I.im, colored=colored)\n",
    "    \n",
    "    def d(self, m, i=0):\n",
    "        d0 = self.qs\n",
    "        d1 = self.qs / 2 + d0\n",
    "        return d1 if m else d0\n",
    "    \n",
    "    def encode(self, f_o, w=None, pos=None, verbose=False):\n",
    "        # choose moments to modify\n",
    "        pos_nm = self.moments_from_encode_poss( pos or len(w) )\n",
    "        if self.w_space < len(pos_nm):\n",
    "            print('ERR: not enough moments')\n",
    "            return None\n",
    "        # (P)ZMs\n",
    "        if verbose: print('1/4: moments'+' '*32, end='\\r')\n",
    "        F = self(f_o, verbose=verbose)\n",
    "        # Reconstruction with unmodified RHFMs\n",
    "        if verbose: print('2/4: reconstruction'+' '*32, end='\\r')\n",
    "        R = self.reconstruct(F, f_o.width, f_o.height, verbose=verbose).im\n",
    "        D = f_o.im - R\n",
    "        # modify\n",
    "        #if verbose: print('3/4: encoding'+' '*32, end='\\r')\n",
    "        for k in range(len(w)):\n",
    "            (n, m) = pos_nm[k]\n",
    "            F_nm_abs = self.abs(F[n,m])\n",
    "            l_k = np.round(F_nm_abs / self.qs)\n",
    "            d = -1/2 if ((l_k + w[k]) % 2 == 1) else 1/2\n",
    "            F_nm_abs_mod = (l_k + d) * self.qs\n",
    "            F[n,m] = (F_nm_abs_mod / F_nm_abs) * F[n,m]\n",
    "            F[n,-m] = (F_nm_abs_mod / F_nm_abs) * F[n,-m]\n",
    "        # Reconstruction with modified RHFMs\n",
    "        if verbose: print('4/4: modified reconstruction'+' '*32, end='\\r')\n",
    "        E = self.reconstruct(F, f_o.width, f_o.height, verbose=verbose).im\n",
    "        # Image combination\n",
    "        if verbose: print('done'+' '*32, end='\\r')\n",
    "        return Image(E + D, colored=f_o.colored)\n",
    "    \n",
    "    def decode(self, f_o, pos=None, verbose=False):\n",
    "        # choose moments to decode\n",
    "        pos_nm = self.moments_from_encode_poss( pos ) # or ((self.n_max+self.m_max)//2) )\n",
    "        if self.w_space < len(pos_nm):\n",
    "            print('ERR: not enough moments')\n",
    "            return None\n",
    "        # Modified RHFMs\n",
    "        F = self(f_o, verbose=verbose)\n",
    "        # decode\n",
    "        w = []\n",
    "        for (n, m) in pos_nm:\n",
    "            F_nm_abs = self.abs(F[n,m])\n",
    "            l_k = np.floor(F_nm_abs / self.qs)\n",
    "            w_k = int(l_k % 2)\n",
    "            #print(n, m, abs(F[n,m]), np.floor(F_nm_abs / self.qs), w_k)\n",
    "            w.append(w_k)\n",
    "        if verbose: print('done'+' '*32, end='\\r')\n",
    "        return w\n",
    "    "
   ]
  },
  {
   "cell_type": "code",
   "execution_count": 202,
   "metadata": {},
   "outputs": [],
   "source": [
    "N = 32\n",
    "order = 8\n",
    "#\n",
    "im = Image('lena_'+str(N)+'.png', circle_radius=1)\n",
    "ZM = ZernikeMoment(order, N, encode_dir='row')"
   ]
  },
  {
   "cell_type": "code",
   "execution_count": 198,
   "metadata": {},
   "outputs": [
    {
     "name": "stdout",
     "output_type": "stream",
     "text": [
      "done                                                        \r"
     ]
    }
   ],
   "source": [
    "w = np.random.randint(2, size=8)\n",
    "p = range(len(w))\n",
    "E = ZM.encode(im.grey, w, p, verbose=True)"
   ]
  },
  {
   "cell_type": "code",
   "execution_count": 199,
   "metadata": {},
   "outputs": [
    {
     "data": {
      "image/png": "[encoded data removed]",
      "text/plain": [
       "<Figure size 432x288 with 1 Axes>"
      ]
     },
     "metadata": {
      "needs_background": "light"
     },
     "output_type": "display_data"
    },
    {
     "data": {
      "image/png": "[encoded data removed]",
      "text/plain": [
       "<Figure size 432x288 with 1 Axes>"
      ]
     },
     "metadata": {
      "needs_background": "light"
     },
     "output_type": "display_data"
    }
   ],
   "source": [
    "E.show()\n",
    "imdiff = np.abs(im.grey.im.astype('float16') - E.im.astype('float16')).astype('uint16')\n",
    "# imdiffmax = np.max(imdiff)\n",
    "II = Image(20*imdiff, colored=False)\n",
    "II.show()"
   ]
  },
  {
   "cell_type": "code",
   "execution_count": 200,
   "metadata": {},
   "outputs": [
    {
     "name": "stdout",
     "output_type": "stream",
     "text": [
      "done                                \r"
     ]
    },
    {
     "data": {
      "text/plain": [
       "[0, 0, 1, 0, 0, 1, 0, 1]"
      ]
     },
     "execution_count": 200,
     "metadata": {},
     "output_type": "execute_result"
    }
   ],
   "source": [
    "ZM.decode(E, pos=p, verbose=True)"
   ]
  },
  {
   "cell_type": "code",
   "execution_count": 201,
   "metadata": {},
   "outputs": [
    {
     "data": {
      "text/plain": [
       "array([0, 0, 1, 0, 0, 1, 0, 1])"
      ]
     },
     "execution_count": 201,
     "metadata": {},
     "output_type": "execute_result"
    }
   ],
   "source": [
    "w"
   ]
  },
  {
   "cell_type": "code",
   "execution_count": null,
   "metadata": {},
   "outputs": [],
   "source": []
  },
  {
   "cell_type": "code",
   "execution_count": null,
   "metadata": {},
   "outputs": [],
   "source": []
  },
  {
   "cell_type": "code",
   "execution_count": null,
   "metadata": {
    "tags": []
   },
   "outputs": [],
   "source": [
    "#%%time\n",
    "F = ZM(im.grey, verbose=True)"
   ]
  },
  {
   "cell_type": "code",
   "execution_count": null,
   "metadata": {},
   "outputs": [],
   "source": [
    "F[4]"
   ]
  },
  {
   "cell_type": "code",
   "execution_count": null,
   "metadata": {},
   "outputs": [],
   "source": [
    "#%%time\n",
    "I = ZM.reconstruct(F, N, verbose=True)\n",
    "I.show()"
   ]
  },
  {
   "cell_type": "code",
   "execution_count": null,
   "metadata": {},
   "outputs": [],
   "source": []
  },
  {
   "cell_type": "code",
   "execution_count": null,
   "metadata": {},
   "outputs": [],
   "source": []
  },
  {
   "cell_type": "code",
   "execution_count": null,
   "metadata": {},
   "outputs": [],
   "source": []
  },
  {
   "cell_type": "code",
   "execution_count": null,
   "metadata": {},
   "outputs": [],
   "source": [
    "list(zip(w, RHFM.decode(E, p)))"
   ]
  },
  {
   "cell_type": "code",
   "execution_count": null,
   "metadata": {},
   "outputs": [],
   "source": []
  }
 ],
 "metadata": {
  "kernelspec": {
   "display_name": "Python 3",
   "language": "python",
   "name": "python3"
  },
  "language_info": {
   "codemirror_mode": {
    "name": "ipython",
    "version": 3
   },
   "file_extension": ".py",
   "mimetype": "text/x-python",
   "name": "python",
   "nbconvert_exporter": "python",
   "pygments_lexer": "ipython3",
   "version": "3.8.5"
  }
 },
 "nbformat": 4,
 "nbformat_minor": 4
}
